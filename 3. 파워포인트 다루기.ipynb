{
 "cells": [
  {
   "cell_type": "markdown",
   "id": "finished-waterproof",
   "metadata": {},
   "source": [
    "# 파이썬으로 파워포인트 다루기"
   ]
  },
  {
   "cell_type": "markdown",
   "id": "reasonable-setup",
   "metadata": {},
   "source": [
    "MS 파워포인트와 워드를 다루는 파이썬 라이브러리로 가장 널리 사용되는 것은 <a href=\"https://python-pptx.readthedocs.io/en/latest/\">python-pptx</a>와 <a href=\"https://python-docx.readthedocs.io/en/latest/\">python-docx</a>다. 본 강의에서는 python-pptx를 활용해 파워포인트 파일을 다뤄보는 실습을 진행한다. (python-docx도 사용법이 유사하기 때문에 필요하다면 공식문서를 참고하자.)\n",
    "\n",
    "<pre>pip install python-pptx</pre>"
   ]
  },
  {
   "cell_type": "markdown",
   "id": "relevant-wrapping",
   "metadata": {},
   "source": [
    "## 텍스트 모두 가져오기"
   ]
  },
  {
   "cell_type": "markdown",
   "id": "overhead-musical",
   "metadata": {},
   "source": [
    "파워포인트는 수많은 기능과 다양한 종류의 객체를 담고 있는 프로그램이기 때문에 모든 내용에 일일이 접근하는 게 쉬운 일은 아니다. 따라서 본 실습에서는 텍스트 상자(도형), 그리고 표에 있는 텍스트만 수집하는 방법을 소개한다.\n",
    "\n",
    "프레젠테이션 안의 텍스트에 접근하려면 모든 슬라이드, 그 안의 모든 객체(텍스트 상자, 표 등), 그 안의 모든 단락 또는 표의 행/열 단위로 순차적인 탐색을 해야 하기 때문에 반복문을 중첩해서 사용한다."
   ]
  },
  {
   "cell_type": "markdown",
   "id": "comparable-rachel",
   "metadata": {},
   "source": [
    "하나의 파워포인트 파일에서 텍스트를 수집해 리스트에 담아보면 다음과 같다."
   ]
  },
  {
   "cell_type": "code",
   "execution_count": null,
   "id": "sunset-syracuse",
   "metadata": {},
   "outputs": [],
   "source": [
    "from pptx import Presentation\n",
    "\n",
    "텍스트 = []\n",
    "\n",
    "prs = Presentation(\"files/template.pptx\")\n",
    "\n",
    "for slide in prs.slides:\n",
    "    for shape in slide.shapes:\n",
    "        \n",
    "        # 텍스트 상자(도형)\n",
    "        if shape.has_text_frame:\n",
    "            for paragraph in shape.text_frame.paragraphs:\n",
    "                텍스트.append(paragraph.text)\n",
    "        # 표\n",
    "        if shape.has_table:\n",
    "            for row in shape.table.rows:\n",
    "                for cell in row.cells:\n",
    "                    텍스트.append(cell.text)    \n",
    "\n",
    "print(텍스트)"
   ]
  },
  {
   "cell_type": "markdown",
   "id": "cardiac-queen",
   "metadata": {},
   "source": [
    "만약 동일한 템플릿을 가진 여러개의 파워포인트 파일에서 추출한 텍스트를 하나의 엑셀 파일에 모아서 기록하고자 한다면, 위 코드를 모든 pptx 파일에 대해 반복 실행한 후 openpyxl을 통해 기록하면 된다. (어떤 파일에서 가져온 것인지 알기 위해 텍스트를 모으는 리스트 맨 앞에 파일 명을 추가했다.)"
   ]
  },
  {
   "cell_type": "code",
   "execution_count": null,
   "id": "dental-musical",
   "metadata": {},
   "outputs": [],
   "source": [
    "from pptx import Presentation\n",
    "from pathlib import Path\n",
    "from openpyxl import Workbook\n",
    "\n",
    "전체텍스트 = []\n",
    "\n",
    "for 파일 in Path(\"files\").iterdir():\n",
    "    \n",
    "    텍스트 = []\n",
    "    텍스트.append(Path(파일).name)\n",
    "    \n",
    "    prs = Presentation(파일)\n",
    "\n",
    "    for slide in prs.slides:\n",
    "        for shape in slide.shapes:\n",
    "\n",
    "            # 텍스트 상자(도형)\n",
    "            if shape.has_text_frame:\n",
    "                for paragraph in shape.text_frame.paragraphs:\n",
    "                    텍스트.append(paragraph.text)\n",
    "            # 표\n",
    "            if shape.has_table:\n",
    "                for row in shape.table.rows:\n",
    "                    for cell in row.cells:\n",
    "                        텍스트.append(cell.text)\n",
    "                        \n",
    "    전체텍스트.append(텍스트)\n",
    "\n",
    "    \n",
    "wb = Workbook()\n",
    "ws = wb.active\n",
    "\n",
    "for 텍스트 in 전체텍스트:\n",
    "    ws.append(텍스트)\n",
    "\n",
    "wb.save(\"files/텍스트추출.xlsx\")"
   ]
  },
  {
   "cell_type": "markdown",
   "id": "persistent-preservation",
   "metadata": {},
   "source": [
    "## 텍스트 찾아 바꾸기"
   ]
  },
  {
   "cell_type": "markdown",
   "id": "buried-nickname",
   "metadata": {},
   "source": [
    "텍스트를 찾아 바꾸는 작업은 문자열을 다루는 <code>replace()</code>를 사용한다."
   ]
  },
  {
   "cell_type": "code",
   "execution_count": null,
   "id": "certified-hospital",
   "metadata": {},
   "outputs": [],
   "source": [
    "텍스트 = \"제 이름은 홍길동입니다.\"\n",
    "텍스트수정 = 텍스트.replace(\"홍길동\", \"배트맨\")\n",
    "\n",
    "print(텍스트)\n",
    "print(텍스트수정)"
   ]
  },
  {
   "cell_type": "markdown",
   "id": "north-principal",
   "metadata": {},
   "source": [
    "일단 하나의 파워포인트 파일에서 텍스트 찾아바꾸기를 시도해보자."
   ]
  },
  {
   "cell_type": "code",
   "execution_count": null,
   "id": "measured-annotation",
   "metadata": {},
   "outputs": [],
   "source": [
    "from pptx import Presentation\n",
    "\n",
    "prs = Presentation(\"files/template.pptx\")\n",
    "\n",
    "찾을내용 = \"name\"\n",
    "바꿀내용 = \"홍길동\"\n",
    "\n",
    "for slide in prs.slides:\n",
    "    for shape in slide.shapes:\n",
    "        \n",
    "            # 텍스트 상자        \n",
    "            if shape.has_text_frame:\n",
    "                for paragraph in shape.text_frame.paragraphs:\n",
    "                    for run in paragraph.runs:\n",
    "                        if 찾을내용 in run.text:\n",
    "                            run.text = run.text.replace(찾을내용, 바꿀내용)\n",
    "                                    \n",
    "            # 표\n",
    "            if shape.has_table:\n",
    "                for row in shape.table.rows:\n",
    "                    for cell in row.cells:\n",
    "                        for paragraph in cell.text_frame.paragraphs:\n",
    "                            for run in paragraph.runs:\n",
    "                                if 찾을내용 in run.text:\n",
    "                                    run.text = run.text.replace(찾을내용, 바꿀내용)\n",
    "                                    \n",
    "    \n",
    "prs.save(\"files/template_수정.pptx\")"
   ]
  },
  {
   "cell_type": "markdown",
   "id": "apart-virtue",
   "metadata": {},
   "source": [
    "여러개의 수정사항이 있을 때는 딕셔너리를 활용해보자."
   ]
  },
  {
   "cell_type": "code",
   "execution_count": null,
   "id": "confidential-poverty",
   "metadata": {},
   "outputs": [],
   "source": [
    "from pptx import Presentation\n",
    "\n",
    "prs = Presentation(\"files/template.pptx\")\n",
    "\n",
    "수정사항 = {\"number\": \"1\", \"name\": \"배트맨\", \"date\": \"2021년 6월 4일\"}\n",
    "\n",
    "for 찾을내용, 바꿀내용 in 수정사항.items():\n",
    "    \n",
    "    for slide in prs.slides:\n",
    "        for shape in slide.shapes:\n",
    "\n",
    "            # 텍스트 상자        \n",
    "            if shape.has_text_frame:\n",
    "                for paragraph in shape.text_frame.paragraphs:\n",
    "                    for run in paragraph.runs:\n",
    "                        if 찾을내용 in run.text:\n",
    "                            run.text = run.text.replace(찾을내용, 바꿀내용)\n",
    "\n",
    "            # 표\n",
    "            if shape.has_table:\n",
    "                for row in shape.table.rows:\n",
    "                    for cell in row.cells:\n",
    "                        for paragraph in cell.text_frame.paragraphs:\n",
    "                            for run in paragraph.runs:\n",
    "                                if 찾을내용 in run.text:\n",
    "                                    run.text = run.text.replace(찾을내용, 바꿀내용)\n",
    "\n",
    "    \n",
    "prs.save(\"files/template_수정.pptx\")"
   ]
  },
  {
   "cell_type": "markdown",
   "id": "humanitarian-senior",
   "metadata": {},
   "source": [
    "# 실습: 템플릿을 활용해 개별 파워포인트 파일 생성하기"
   ]
  },
  {
   "cell_type": "markdown",
   "id": "gorgeous-blocking",
   "metadata": {},
   "source": [
    "엑셀 명단에서 준비된 값을 읽어와 개인별 파워포인트 파일을 만들어보자. (이 때 엑셀에 포함된 데이터가 문자열이 아니라면 <code>str()</code>함수를 써서 문자열로 바꿔줄 필요가 있다.)"
   ]
  },
  {
   "cell_type": "code",
   "execution_count": null,
   "id": "modern-production",
   "metadata": {},
   "outputs": [],
   "source": [
    "from openpyxl import load_workbook\n",
    "from pptx import Presentation\n",
    "\n",
    "wb = load_workbook(\"files/명단.xlsx\", data_only=True)\n",
    "ws = wb.active\n",
    "\n",
    "전체데이터 = []\n",
    "\n",
    "for 행 in ws.iter_rows(min_row=2):\n",
    "    \n",
    "    행데이터 = {}\n",
    "    \n",
    "    행데이터[\"number\"] = str(행[0].value)\n",
    "    행데이터[\"name\"] = 행[1].value\n",
    "    행데이터[\"date\"] = 행[2].value\n",
    "\n",
    "    전체데이터.append(행데이터)\n",
    "\n",
    "    \n",
    "\n",
    "for 행데이터 in 전체데이터:\n",
    "    \n",
    "    prs = Presentation(\"files/template.pptx\")\n",
    "\n",
    "    for 찾을내용, 바꿀내용 in 행데이터.items():\n",
    "\n",
    "        for slide in prs.slides:\n",
    "            for shape in slide.shapes:\n",
    "\n",
    "                # 텍스트 상자        \n",
    "                if shape.has_text_frame:\n",
    "                    for paragraph in shape.text_frame.paragraphs:\n",
    "                        for run in paragraph.runs:\n",
    "                            if 찾을내용 in run.text:\n",
    "                                run.text = run.text.replace(찾을내용, 바꿀내용)\n",
    "                # 표\n",
    "                if shape.has_table:\n",
    "                    for row in shape.table.rows:\n",
    "                        for cell in row.cells:\n",
    "                            for paragraph in cell.text_frame.paragraphs:\n",
    "                                for run in paragraph.runs:\n",
    "                                    if 찾을내용 in run.text:\n",
    "                                        run.text = run.text.replace(찾을내용, 바꿀내용)\n",
    "    \n",
    "    prs.save(f'files/template_{행데이터[\"number\"]}_{행데이터[\"name\"]}.pptx')"
   ]
  }
 ],
 "metadata": {
  "kernelspec": {
   "display_name": "venv",
   "language": "python",
   "name": "venv"
  },
  "language_info": {
   "codemirror_mode": {
    "name": "ipython",
    "version": 3
   },
   "file_extension": ".py",
   "mimetype": "text/x-python",
   "name": "python",
   "nbconvert_exporter": "python",
   "pygments_lexer": "ipython3",
   "version": "3.9.4"
  }
 },
 "nbformat": 4,
 "nbformat_minor": 5
}
