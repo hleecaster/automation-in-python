{
 "cells": [
  {
   "cell_type": "markdown",
   "id": "afraid-creation",
   "metadata": {},
   "source": [
    "# 파이썬으로 파일/폴더 다루기"
   ]
  },
  {
   "cell_type": "markdown",
   "id": "rapid-turkish",
   "metadata": {},
   "source": [
    "## 절대경로, 상대경로 이해하기"
   ]
  },
  {
   "cell_type": "markdown",
   "id": "molecular-rhythm",
   "metadata": {},
   "source": [
    "### 절대경로\n",
    "절대경로는 흔히 드라이브 내에서의 파일 위치를 의미한다. 예를 들어 C드라이브에 존재하는 파일 절대경로는 \"C:/\"로 시작한다. 절대경로를 작성할 때 Mac, Linux 운영체제에서는 폴더 구분자로 <code>/</code>를 사용하지만, 윈도우 운영체제의 경우 <code>\\\\</code>(백슬래시)를 사용한다.\n",
    "\n",
    "윈도우에서 파이썬 문자열로 절대경로를 작성하려면 구분자를 쓸 때 <code>\\\\\\\\</code>와 같이 백슬래시 2개를 연달아 사용해야 한다. 백슬래시를 1개만 사용하면 이스케이프 문자를 표현하겠다는 문법으로 사용되기 때문이다. 예를 들어 <code>\\n</code>이라는 표현은 줄바꿈을 의미한다.\n",
    "\n",
    "\n",
    "### 상대경로\n",
    "상대경로는 현재 작업폴더를 기준으로 삼는다. 상대경로를 작성할 때는 <code>/</code>(슬래시) 문자로 구분하여 하위 폴더를 탐색할 수 있다."
   ]
  },
  {
   "cell_type": "markdown",
   "id": "marked-listing",
   "metadata": {},
   "source": [
    "### 파이썬에서 절대경로, 상대경로를 사용하는 방법"
   ]
  },
  {
   "cell_type": "markdown",
   "id": "dramatic-custom",
   "metadata": {},
   "source": [
    "파이썬에 내장된 모듈들을 활용한다.\n",
    "\n",
    "- pathlib: https://python.flowdas.com/library/pathlib.html\n",
    "- glob: https://python.flowdas.com/library/glob.html\n",
    "- shutil: https://python.flowdas.com/library/shutil.html"
   ]
  },
  {
   "cell_type": "markdown",
   "id": "cleared-brick",
   "metadata": {},
   "source": [
    "대표적인 함수를 사용해 파일의 절대/상대경로, 파일명, 확장자를 출력해보자."
   ]
  },
  {
   "cell_type": "markdown",
   "id": "russian-regard",
   "metadata": {},
   "source": [
    "- 현재폴더의 절대경로 가져오기 : <code>Path.cwd()</code>\n",
    "- 특정파일의 절대경로 가져오기 : <code>Path(파일경로).resolve()</code>\n",
    "- 파일명 가져오기 : <code>Path(파일경로).name()</code>\n",
    "  - (확장자 없이) 파일명만 가져오기 : <code>Path(파일경로).stem</code>\n",
    "  - (파일명 없이) 확장자만 가져오기 : <code>Path(파일경로).suffix</code>"
   ]
  },
  {
   "cell_type": "code",
   "execution_count": 1,
   "id": "harmful-grant",
   "metadata": {},
   "outputs": [
    {
     "data": {
      "text/plain": [
       "WindowsPath('C:/Users/hlee/Desktop/작업폴더')"
      ]
     },
     "execution_count": 1,
     "metadata": {},
     "output_type": "execute_result"
    }
   ],
   "source": [
    "from pathlib import Path\n",
    "\n",
    "Path.cwd()"
   ]
  },
  {
   "cell_type": "code",
   "execution_count": 2,
   "id": "reflected-discipline",
   "metadata": {},
   "outputs": [
    {
     "data": {
      "text/plain": [
       "WindowsPath('C:/Users/hlee/Desktop/작업폴더/main.py')"
      ]
     },
     "execution_count": 2,
     "metadata": {},
     "output_type": "execute_result"
    }
   ],
   "source": [
    "from pathlib import Path\n",
    "\n",
    "Path('main.py').resolve()"
   ]
  },
  {
   "cell_type": "code",
   "execution_count": 3,
   "id": "meaningful-maintenance",
   "metadata": {},
   "outputs": [
    {
     "data": {
      "text/plain": [
       "'main.py'"
      ]
     },
     "execution_count": 3,
     "metadata": {},
     "output_type": "execute_result"
    }
   ],
   "source": [
    "from pathlib import Path\n",
    "\n",
    "Path('C:\\\\Users\\\\hlee\\\\Desktop\\\\작업폴더\\\\main.py').name"
   ]
  },
  {
   "cell_type": "code",
   "execution_count": 4,
   "id": "moved-right",
   "metadata": {},
   "outputs": [
    {
     "data": {
      "text/plain": [
       "'main'"
      ]
     },
     "execution_count": 4,
     "metadata": {},
     "output_type": "execute_result"
    }
   ],
   "source": [
    "from pathlib import Path\n",
    "\n",
    "Path('main.py').stem"
   ]
  },
  {
   "cell_type": "code",
   "execution_count": 5,
   "id": "finite-journal",
   "metadata": {},
   "outputs": [
    {
     "data": {
      "text/plain": [
       "'.py'"
      ]
     },
     "execution_count": 5,
     "metadata": {},
     "output_type": "execute_result"
    }
   ],
   "source": [
    "from pathlib import Path\n",
    "\n",
    "Path('main.py').suffix"
   ]
  },
  {
   "cell_type": "markdown",
   "id": "casual-driver",
   "metadata": {},
   "source": [
    "<code>Path.joinpath()</code>라는 함수도 널리 쓰인다. 현재 작업폴더를 의미하는 <code>Path.cwd()</code>와 함께 하위 폴더명이나 파일 이름을 순서대로 적어주면, 해당 문자열을 합쳐서 절대경로의 형태로 돌려준다."
   ]
  },
  {
   "cell_type": "code",
   "execution_count": 6,
   "id": "patent-quick",
   "metadata": {},
   "outputs": [
    {
     "data": {
      "text/plain": [
       "WindowsPath('C:/Users/hlee/Desktop/작업폴더/files/sample.txt')"
      ]
     },
     "execution_count": 6,
     "metadata": {},
     "output_type": "execute_result"
    }
   ],
   "source": [
    "from pathlib import Path\n",
    "\n",
    "Path.joinpath(Path.cwd(), \"files\", \"sample.txt\")"
   ]
  },
  {
   "cell_type": "markdown",
   "id": "varying-cemetery",
   "metadata": {},
   "source": [
    "## 파일 목록 얻기"
   ]
  },
  {
   "cell_type": "markdown",
   "id": "suited-jersey",
   "metadata": {},
   "source": [
    "파이썬으로 어떤 폴더 안에 있는 파일 목록을 얻는 가장 쉬운 방법은 <code>Path(폴더경로).iterdir()</code> 를 사용하는 것이다."
   ]
  },
  {
   "cell_type": "code",
   "execution_count": 7,
   "id": "informational-campus",
   "metadata": {},
   "outputs": [
    {
     "data": {
      "text/plain": [
       "[WindowsPath('files/1.txt'),\n",
       " WindowsPath('files/12.txt'),\n",
       " WindowsPath('files/123.txt'),\n",
       " WindowsPath('files/1234.txt'),\n",
       " WindowsPath('files/12345.txt'),\n",
       " WindowsPath('files/test.txt'),\n",
       " WindowsPath('files/test1.xlsx'),\n",
       " WindowsPath('files/test2.xlsx'),\n",
       " WindowsPath('files/test3.xlsx'),\n",
       " WindowsPath('files/test4.xlsx'),\n",
       " WindowsPath('files/test5.xlsx')]"
      ]
     },
     "execution_count": 7,
     "metadata": {},
     "output_type": "execute_result"
    }
   ],
   "source": [
    "from pathlib import Path\n",
    "\n",
    "[파일 for 파일 in Path(\"files\").iterdir()]"
   ]
  },
  {
   "cell_type": "markdown",
   "id": "silent-gather",
   "metadata": {},
   "source": [
    "glob 모듈을 사용하는 것도 가능하다. glob 모듈을 사용하면 파일명에서 특정 조건을 만족하는 파일만 필터링 하기 쉽다."
   ]
  },
  {
   "cell_type": "markdown",
   "id": "absolute-spank",
   "metadata": {},
   "source": [
    "<code>*</code>를 활용하면 특정문자로 끝나는 규칙(확장자)을 통해 필터링이 가능하다. 예를 들면 .xlsx 확장자를 가진 파일만 고르고 싶다면 이렇게."
   ]
  },
  {
   "cell_type": "code",
   "execution_count": 8,
   "id": "illegal-cannon",
   "metadata": {},
   "outputs": [
    {
     "data": {
      "text/plain": [
       "['files\\\\test1.xlsx',\n",
       " 'files\\\\test2.xlsx',\n",
       " 'files\\\\test3.xlsx',\n",
       " 'files\\\\test4.xlsx',\n",
       " 'files\\\\test5.xlsx']"
      ]
     },
     "execution_count": 8,
     "metadata": {},
     "output_type": "execute_result"
    }
   ],
   "source": [
    "import glob\n",
    "\n",
    "glob.glob(\"files/*.xlsx\")"
   ]
  },
  {
   "cell_type": "markdown",
   "id": "established-butler",
   "metadata": {},
   "source": [
    "당연히 특정 문자로 시작하는 파일만 찾을 수도 있다."
   ]
  },
  {
   "cell_type": "code",
   "execution_count": 9,
   "id": "bacterial-arrangement",
   "metadata": {},
   "outputs": [
    {
     "data": {
      "text/plain": [
       "['files\\\\test.txt',\n",
       " 'files\\\\test1.xlsx',\n",
       " 'files\\\\test2.xlsx',\n",
       " 'files\\\\test3.xlsx',\n",
       " 'files\\\\test4.xlsx',\n",
       " 'files\\\\test5.xlsx']"
      ]
     },
     "execution_count": 9,
     "metadata": {},
     "output_type": "execute_result"
    }
   ],
   "source": [
    "import glob\n",
    "\n",
    "glob.glob(\"files/test*\")"
   ]
  },
  {
   "cell_type": "markdown",
   "id": "uniform-powder",
   "metadata": {},
   "source": [
    "문자열 사이사이에 와일드카드문자를 써주면 더 복잡한 것도 쉽게 찾을 수 있다."
   ]
  },
  {
   "cell_type": "code",
   "execution_count": 10,
   "id": "failing-prior",
   "metadata": {},
   "outputs": [
    {
     "data": {
      "text/plain": [
       "['files\\\\1234.txt', 'files\\\\12345.txt']"
      ]
     },
     "execution_count": 10,
     "metadata": {},
     "output_type": "execute_result"
    }
   ],
   "source": [
    "import glob\n",
    "\n",
    "glob.glob(\"files/1*4*\")"
   ]
  },
  {
   "cell_type": "markdown",
   "id": "interim-daily",
   "metadata": {
    "tags": []
   },
   "source": [
    "<code>?</code>를 활용하면 문자 개수를 세서 필터링 할 수 있다. 예를 들어 파일명이 다섯<code>?</code>를 활용하면 문자 개수를 세서 필터링 할 수 있다. 예를 들어 파일명이 다섯 글자인 .xlsx 파일만 찾고 싶다면 이렇게. 글자인 .xlsx 파일만 찾고 싶다면 이렇게."
   ]
  },
  {
   "cell_type": "code",
   "execution_count": 11,
   "id": "stable-trust",
   "metadata": {},
   "outputs": [
    {
     "data": {
      "text/plain": [
       "['files\\\\1234.txt', 'files\\\\test.txt']"
      ]
     },
     "execution_count": 11,
     "metadata": {},
     "output_type": "execute_result"
    }
   ],
   "source": [
    "import glob\n",
    "\n",
    "glob.glob(\"files/????.txt\")"
   ]
  },
  {
   "cell_type": "markdown",
   "id": "presidential-factor",
   "metadata": {},
   "source": [
    "## 파일/폴더 관리하기"
   ]
  },
  {
   "cell_type": "markdown",
   "id": "moral-enforcement",
   "metadata": {},
   "source": [
    "### 파일/폴더 이름 바꾸기"
   ]
  },
  {
   "cell_type": "markdown",
   "id": "established-occurrence",
   "metadata": {},
   "source": [
    "<code>Path(원래파일경로).rename(새파일경로)</code> 함수를 사용한다. 파일의 절대경로 상대경로 모두 가능하다. (폴더도 마찬가지다.)"
   ]
  },
  {
   "cell_type": "code",
   "execution_count": 12,
   "id": "smooth-generation",
   "metadata": {},
   "outputs": [
    {
     "data": {
      "text/plain": [
       "WindowsPath('files/test.txt')"
      ]
     },
     "execution_count": 12,
     "metadata": {},
     "output_type": "execute_result"
    }
   ],
   "source": [
    "from pathlib import Path\n",
    "\n",
    "Path(\"files/test.txt\").rename(\"files/새 이름.txt\")\n",
    "Path(\"files/새 이름.txt\").rename(\"files/test.txt\")"
   ]
  },
  {
   "cell_type": "markdown",
   "id": "ordinary-premises",
   "metadata": {},
   "source": [
    "### 파일/폴더 이동하기"
   ]
  },
  {
   "cell_type": "markdown",
   "id": "essential-salad",
   "metadata": {},
   "source": [
    "이름 바꾸기와 동일하게 <code>Path(원래파일경로).rename(새파일경로)</code> 함수를 사용한다. 함수를 사용한다. 파일의 경로를 변경함으로써 이동의 효과가 나타난다. (폴더도 마찬가지다.)"
   ]
  },
  {
   "cell_type": "code",
   "execution_count": 13,
   "id": "bottom-launch",
   "metadata": {},
   "outputs": [
    {
     "data": {
      "text/plain": [
       "WindowsPath('files/test.txt')"
      ]
     },
     "execution_count": 13,
     "metadata": {},
     "output_type": "execute_result"
    }
   ],
   "source": [
    "from pathlib import Path\n",
    "\n",
    "Path(\"files/test.txt\").rename(\"test.txt\")\n",
    "Path(\"test.txt\").rename(\"files/test.txt\")\t"
   ]
  },
  {
   "cell_type": "markdown",
   "id": "greatest-treaty",
   "metadata": {},
   "source": [
    "### 파일/폴더 삭제하기"
   ]
  },
  {
   "cell_type": "markdown",
   "id": "professional-paper",
   "metadata": {},
   "source": [
    "파일의 삭제는 휴지통(recycle bin)으로 옮겨가는 것이 아니라 완전한 삭제를 의미하기 때문에 신중하게 사용하는 것이 좋다. 만약 휴지통으로 옮기는 기능을 수행하고 싶다면 <a href=\"https://pypi.org/project/Send2Trash/\">Send2Trash</a>와 같은 라이브러리를 별도로 설치해서 사용해야 한다."
   ]
  },
  {
   "cell_type": "markdown",
   "id": "eleven-wages",
   "metadata": {},
   "source": [
    "- 파일 삭제 : <code>Path(파일경로).unlink()</code>\n",
    "- 폴더 삭제 : <code>shutil.rmtree()</code>"
   ]
  },
  {
   "cell_type": "code",
   "execution_count": 14,
   "id": "square-rolling",
   "metadata": {},
   "outputs": [],
   "source": [
    "from pathlib import Path\n",
    "\n",
    "Path(\"files/test.txt\").unlink()"
   ]
  },
  {
   "cell_type": "markdown",
   "id": "gross-tablet",
   "metadata": {},
   "source": [
    "폴더의 삭제는 <code>Path(폴더경로).unlink()</code> 함수로는 수행이 불가능하다. 대신 <code>shutil</code> 모듈을 이용한다."
   ]
  },
  {
   "cell_type": "code",
   "execution_count": 15,
   "id": "behind-exclusion",
   "metadata": {},
   "outputs": [],
   "source": [
    "import shutil\n",
    "\n",
    "shutil.rmtree(\"새 폴더\")"
   ]
  },
  {
   "cell_type": "markdown",
   "id": "smart-calculator",
   "metadata": {},
   "source": [
    "이 또한 휴지통으로 이동 시키는 것이 아니라 완전한 삭제를 의미한다."
   ]
  },
  {
   "cell_type": "markdown",
   "id": "visible-penguin",
   "metadata": {},
   "source": [
    "### 파일/폴더 복사하기"
   ]
  },
  {
   "cell_type": "markdown",
   "id": "empty-bottle",
   "metadata": {},
   "source": [
    "- 파일 복사 : <code>shutil.copyfile()</code>\n",
    "- 폴더 복사 : <code>shutil.copytree()</code>"
   ]
  },
  {
   "cell_type": "code",
   "execution_count": 16,
   "id": "elegant-hurricane",
   "metadata": {},
   "outputs": [
    {
     "data": {
      "text/plain": [
       "'files - 복사본'"
      ]
     },
     "execution_count": 16,
     "metadata": {},
     "output_type": "execute_result"
    }
   ],
   "source": [
    "import shutil\n",
    "\n",
    "shutil.copyfile(\"files/test.txt\", \"files/test - 복사본.txt\")\n",
    "shutil.copytree(\"files\", \"files - 복사본\")"
   ]
  },
  {
   "cell_type": "markdown",
   "id": "suited-million",
   "metadata": {},
   "source": [
    "### 새 폴더 만들기"
   ]
  },
  {
   "cell_type": "markdown",
   "id": "editorial-anniversary",
   "metadata": {},
   "source": [
    "<code>Path(폴더경로).mkdir(exist_ok=True)</code> 함수를 사용한다. <code>exist_ok=True</code>는 해당 폴더가 없을 경우에만 생성한다는 뜻이다. (만약 같은 이름을 가진 폴더가 이미 존재하는 상태에서, 이를 명시하지 않고 코드를 실행하면 \"파일이 이미 있으므로 만들 수 없습니다\"라는 에러가 발생한다.)"
   ]
  },
  {
   "cell_type": "code",
   "execution_count": 17,
   "id": "ordered-falls",
   "metadata": {},
   "outputs": [],
   "source": [
    "from pathlib import Path\n",
    "\n",
    "Path(\"새 폴더\").mkdir(exist_ok=True)"
   ]
  },
  {
   "cell_type": "markdown",
   "id": "intimate-impossible",
   "metadata": {},
   "source": [
    "# 실습: 반복문을 활용해서 파일명 일괄 수정하기"
   ]
  },
  {
   "cell_type": "markdown",
   "id": "narrow-collins",
   "metadata": {},
   "source": [
    "실습 준비 (파일명 랜덤 생성)"
   ]
  },
  {
   "cell_type": "code",
   "execution_count": 18,
   "id": "authentic-morgan",
   "metadata": {},
   "outputs": [],
   "source": [
    "from pathlib import Path\n",
    "import uuid\n",
    "\n",
    "폴더명 = \"새 폴더\"\n",
    "\n",
    "Path(폴더명).mkdir(exist_ok=True)\n",
    "\n",
    "for n in range(20):\n",
    "    fname = f'{폴더명}\\\\{uuid.uuid4()}.txt'\n",
    "    f = open(fname, 'w')\n",
    "    f.close()"
   ]
  },
  {
   "cell_type": "markdown",
   "id": "mathematical-bicycle",
   "metadata": {},
   "source": [
    "## 모든 파일명 앞/뒤에 특정 문자열 추가하기"
   ]
  },
  {
   "cell_type": "markdown",
   "id": "mounted-liechtenstein",
   "metadata": {},
   "source": [
    "앞에 \"수정_\"이라는 텍스트를 붙여보자"
   ]
  },
  {
   "cell_type": "code",
   "execution_count": 19,
   "id": "immediate-centre",
   "metadata": {},
   "outputs": [],
   "source": [
    "from pathlib import Path\n",
    "\n",
    "for 파일 in Path(\"새 폴더\").iterdir():\n",
    "    Path(파일).rename(f'새 폴더/수정_{Path(파일).name}')"
   ]
  },
  {
   "cell_type": "markdown",
   "id": "harmful-constraint",
   "metadata": {},
   "source": [
    "이번엔 뒤에 \"_최종\"이라는 이름을 붙여보자."
   ]
  },
  {
   "cell_type": "code",
   "execution_count": 20,
   "id": "educational-collector",
   "metadata": {},
   "outputs": [],
   "source": [
    "from pathlib import Path\n",
    "\n",
    "for 파일 in Path(\"새 폴더\").iterdir():\n",
    "    Path(파일).rename(f'새 폴더/{Path(파일).stem}_최종{Path(파일).suffix}')"
   ]
  },
  {
   "cell_type": "markdown",
   "id": "about-addition",
   "metadata": {},
   "source": [
    "## 모든 파일에 순서대로 번호 부여하기"
   ]
  },
  {
   "cell_type": "markdown",
   "id": "centered-jacket",
   "metadata": {},
   "source": [
    "반복문을 돌며 해당 번호를 하나씩 +1 하는 방식."
   ]
  },
  {
   "cell_type": "code",
   "execution_count": 21,
   "id": "canadian-jones",
   "metadata": {},
   "outputs": [],
   "source": [
    "from pathlib import Path\n",
    "\n",
    "번호 = 1\n",
    "for 파일 in Path(\"새 폴더\").iterdir():\n",
    "    Path(파일).rename(f'새 폴더/{Path(파일).stem}_진짜최종_{번호}{Path(파일).suffix}')\n",
    "    번호 += 1"
   ]
  },
  {
   "cell_type": "markdown",
   "id": "unnecessary-monitoring",
   "metadata": {},
   "source": [
    "더 우아한 방식으로도 파일 경로를 다룰 수 있겠으나, 본 강의는 파이썬 입문자를 위한 것이고 파일의 이름 및 경로에 익숙해지는 것이 목적이므로 깊이 다루지 않는다."
   ]
  }
 ],
 "metadata": {
  "kernelspec": {
   "display_name": "venv",
   "language": "python",
   "name": "venv"
  },
  "language_info": {
   "codemirror_mode": {
    "name": "ipython",
    "version": 3
   },
   "file_extension": ".py",
   "mimetype": "text/x-python",
   "name": "python",
   "nbconvert_exporter": "python",
   "pygments_lexer": "ipython3",
   "version": "3.9.4"
  },
  "toc-autonumbering": true
 },
 "nbformat": 4,
 "nbformat_minor": 5
}
