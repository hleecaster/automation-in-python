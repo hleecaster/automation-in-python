{
 "cells": [
  {
   "cell_type": "markdown",
   "id": "casual-sampling",
   "metadata": {},
   "source": [
    "# 파이썬으로 파일/폴더 다루기"
   ]
  },
  {
   "cell_type": "markdown",
   "id": "clear-drinking",
   "metadata": {},
   "source": [
    "## 절대경로, 상대경로 이해하기"
   ]
  },
  {
   "cell_type": "markdown",
   "id": "metallic-things",
   "metadata": {},
   "source": [
    "### 절대경로\n",
    "절대경로는 흔히 드라이브 내에서의 파일 위치를 의미한다. 예를 들어 C드라이브에 존재하는 파일 절대경로는 \"C:/\"로 시작한다. 절대경로를 작성할 때 Mac, Linux 운영체제에서는 폴더 구분자로 <code>/</code>를 사용하지만, 윈도우 운영체제의 경우 <code>\\\\</code>(백슬래시)를 사용한다.\n",
    "\n",
    "윈도우에서 파이썬 문자열로 절대경로를 작성하려면 구분자를 쓸 때 <code>\\\\\\\\</code>와 같이 백슬래시 2개를 연달아 사용해야 한다. (백슬래시를 1개만 사용하면 이스케이프 문자를 표현하는 문법으로 사용되기 때문이다. 예를 들어 <code>\\n</code>이라는 표현은 줄바꿈을 의미한다.)\n",
    "\n",
    "\n",
    "### 상대경로\n",
    "상대경로는 현재 작업폴더를 기준으로 삼는다. 상대경로를 작성할 때는 <code>/</code>(슬래시) 문자로 구분하여 하위 폴더를 탐색할 수 있다."
   ]
  },
  {
   "cell_type": "markdown",
   "id": "massive-artwork",
   "metadata": {},
   "source": [
    "### 파이썬에서 절대경로, 상대경로를 사용하는 방법"
   ]
  },
  {
   "cell_type": "markdown",
   "id": "electoral-highway",
   "metadata": {},
   "source": [
    "파이썬에 내장된 <a href=\"https://python.flowdas.com/library/pathlib.html\">pathlib</a>모듈들을 활용한다."
   ]
  },
  {
   "cell_type": "markdown",
   "id": "anonymous-tunnel",
   "metadata": {},
   "source": [
    "대표적인 함수를 사용해 파일의 절대/상대경로, 파일명, 확장자를 출력해보자."
   ]
  },
  {
   "cell_type": "markdown",
   "id": "plastic-method",
   "metadata": {},
   "source": [
    "- 현재폴더의 절대경로 가져오기 : <code>Path.cwd()</code>\n",
    "- 특정파일의 절대경로 가져오기 : <code>Path(파일경로).resolve()</code>\n",
    "- 파일명 가져오기 : <code>Path(파일경로).name()</code>\n",
    "  - (확장자 없이) 파일명만 가져오기 : <code>Path(파일경로).stem</code>\n",
    "  - (파일명 없이) 확장자만 가져오기 : <code>Path(파일경로).suffix</code>"
   ]
  },
  {
   "cell_type": "code",
   "execution_count": null,
   "id": "reasonable-fluid",
   "metadata": {},
   "outputs": [],
   "source": [
    "from pathlib import Path\n",
    "\n",
    "Path.cwd()"
   ]
  },
  {
   "cell_type": "code",
   "execution_count": null,
   "id": "challenging-accused",
   "metadata": {},
   "outputs": [],
   "source": [
    "from pathlib import Path\n",
    "\n",
    "Path('main.py').resolve()"
   ]
  },
  {
   "cell_type": "code",
   "execution_count": null,
   "id": "obvious-experience",
   "metadata": {},
   "outputs": [],
   "source": [
    "from pathlib import Path\n",
    "\n",
    "Path('C:\\\\Users\\\\hlee\\\\Desktop\\\\작업폴더\\\\main.py').name"
   ]
  },
  {
   "cell_type": "code",
   "execution_count": null,
   "id": "ranking-swiss",
   "metadata": {},
   "outputs": [],
   "source": [
    "from pathlib import Path\n",
    "\n",
    "Path('main.py').stem"
   ]
  },
  {
   "cell_type": "code",
   "execution_count": null,
   "id": "cultural-traveler",
   "metadata": {},
   "outputs": [],
   "source": [
    "from pathlib import Path\n",
    "\n",
    "Path('main.py').suffix"
   ]
  },
  {
   "cell_type": "markdown",
   "id": "historic-october",
   "metadata": {},
   "source": [
    "<code>Path.joinpath()</code>라는 함수도 널리 쓰인다. 현재 작업폴더를 의미하는 <code>Path.cwd()</code>와 함께 하위 폴더명이나 파일 이름을 순서대로 적어주면, 해당 문자열을 합쳐서 절대경로의 형태로 돌려준다."
   ]
  },
  {
   "cell_type": "code",
   "execution_count": null,
   "id": "universal-speed",
   "metadata": {},
   "outputs": [],
   "source": [
    "from pathlib import Path\n",
    "\n",
    "Path.joinpath(Path.cwd(), \"files\", \"sample.txt\")"
   ]
  },
  {
   "cell_type": "markdown",
   "id": "diagnostic-banking",
   "metadata": {},
   "source": [
    "## 파일 목록 얻기"
   ]
  },
  {
   "cell_type": "markdown",
   "id": "premier-curtis",
   "metadata": {},
   "source": [
    "파이썬으로 어떤 폴더 안에 있는 파일 목록을 얻는 가장 쉬운 방법은 <code>Path(폴더경로).iterdir()</code> 를 사용하는 것이다. 이렇게 하면 반복/순회가 가능한(iterable) 객체를 얻을 수 있기 때문에 곧바로 for문을 사용할 수 있다."
   ]
  },
  {
   "cell_type": "code",
   "execution_count": null,
   "id": "natural-combination",
   "metadata": {},
   "outputs": [],
   "source": [
    "from pathlib import Path\n",
    "\n",
    "for 파일 in Path(\"files\").iterdir():\n",
    "    print(파일)"
   ]
  },
  {
   "cell_type": "markdown",
   "id": "hollywood-following",
   "metadata": {},
   "source": [
    "여기에 <code>Path(폴더경로).glob(조건)</code>를 사용하면 파일명에서 특정 조건을 만족하는 파일만 필터링 할 수 있다."
   ]
  },
  {
   "cell_type": "markdown",
   "id": "monthly-table",
   "metadata": {},
   "source": [
    "<code>*</code>를 활용하면 특정문자로 끝나는 규칙(확장자)을 통해 필터링이 가능하다. 예를 들면 .xlsx 확장자를 가진 파일만 고르고 싶다면 이렇게."
   ]
  },
  {
   "cell_type": "code",
   "execution_count": null,
   "id": "cordless-moldova",
   "metadata": {},
   "outputs": [],
   "source": [
    "from pathlib import Path\n",
    "\n",
    "for 파일 in Path(\"files\").glob(\"*.xlsx\"):\n",
    "    print(파일)"
   ]
  },
  {
   "cell_type": "markdown",
   "id": "political-turkish",
   "metadata": {},
   "source": [
    "당연히 특정 문자로 시작하는 파일만 찾을 수도 있다."
   ]
  },
  {
   "cell_type": "code",
   "execution_count": null,
   "id": "textile-chart",
   "metadata": {},
   "outputs": [],
   "source": [
    "from pathlib import Path\n",
    "\n",
    "for 파일 in Path(\"files\").glob(\"test*\"):\n",
    "    print(파일)"
   ]
  },
  {
   "cell_type": "markdown",
   "id": "improved-robertson",
   "metadata": {},
   "source": [
    "문자열 사이사이에 와일드카드문자를 써주면 더 복잡한 것도 쉽게 찾을 수 있다."
   ]
  },
  {
   "cell_type": "code",
   "execution_count": null,
   "id": "turned-associate",
   "metadata": {},
   "outputs": [],
   "source": [
    "from pathlib import Path\n",
    "\n",
    "for 파일 in Path(\"files\").glob(\"1*4*\"):\n",
    "    print(파일)"
   ]
  },
  {
   "cell_type": "markdown",
   "id": "double-prevention",
   "metadata": {
    "tags": []
   },
   "source": [
    "<code>?</code>를 활용하면 문자 개수를 세서 필터링 할 수 있다. 예를 들어 파일명이 세 글자인 .txt 파일만 찾고 싶다면 이렇게"
   ]
  },
  {
   "cell_type": "code",
   "execution_count": null,
   "id": "beneficial-accessory",
   "metadata": {},
   "outputs": [],
   "source": [
    "from pathlib import Path\n",
    "\n",
    "for 파일 in Path(\"files\").glob(\"???.txt\"):\n",
    "    print(파일)"
   ]
  },
  {
   "cell_type": "markdown",
   "id": "corresponding-equality",
   "metadata": {},
   "source": [
    "## 파일/폴더 관리하기"
   ]
  },
  {
   "cell_type": "markdown",
   "id": "collaborative-bernard",
   "metadata": {},
   "source": [
    "### 새 폴더 만들기"
   ]
  },
  {
   "cell_type": "markdown",
   "id": "convertible-baghdad",
   "metadata": {},
   "source": [
    "<code>Path(폴더경로).mkdir(exist_ok=True)</code> 함수를 사용한다. <code>exist_ok=True</code>는 해당 폴더가 없을 경우에만 생성한다는 뜻이다. (만약 같은 이름을 가진 폴더가 이미 존재하는 상태에서, 이를 명시하지 않고 코드를 실행하면 \"파일이 이미 있으므로 만들 수 없습니다\"라는 에러가 발생한다.)"
   ]
  },
  {
   "cell_type": "code",
   "execution_count": null,
   "id": "temporal-warren",
   "metadata": {},
   "outputs": [],
   "source": [
    "from pathlib import Path\n",
    "\n",
    "Path(\"새 폴더\").mkdir(exist_ok=True)"
   ]
  },
  {
   "cell_type": "markdown",
   "id": "piano-merchant",
   "metadata": {},
   "source": [
    "### 파일/폴더 이름 바꾸기"
   ]
  },
  {
   "cell_type": "markdown",
   "id": "curious-toilet",
   "metadata": {},
   "source": [
    "<code>Path(원래파일경로).rename(새파일경로)</code> 함수를 사용한다. 파일의 절대경로 상대경로 모두 가능하다. (폴더도 마찬가지다.)"
   ]
  },
  {
   "cell_type": "code",
   "execution_count": null,
   "id": "convenient-tractor",
   "metadata": {},
   "outputs": [],
   "source": [
    "from pathlib import Path\n",
    "\n",
    "Path(\"files/test.txt\").rename(\"files/새 이름.txt\")\n",
    "Path(\"files/새 이름.txt\").rename(\"files/test.txt\")"
   ]
  },
  {
   "cell_type": "markdown",
   "id": "right-kingdom",
   "metadata": {},
   "source": [
    "### 파일/폴더 이동하기"
   ]
  },
  {
   "cell_type": "markdown",
   "id": "automatic-coral",
   "metadata": {},
   "source": [
    "이름 바꾸기와 동일하게 <code>Path(원래파일경로).rename(새파일경로)</code> 함수를 사용한다. 함수를 사용한다. 파일의 경로를 변경함으로써 이동의 효과가 나타난다. (폴더도 마찬가지다.)"
   ]
  },
  {
   "cell_type": "code",
   "execution_count": null,
   "id": "classified-china",
   "metadata": {},
   "outputs": [],
   "source": [
    "from pathlib import Path\n",
    "\n",
    "Path(\"files/test.txt\").rename(\"test.txt\")\n",
    "Path(\"test.txt\").rename(\"files/test.txt\")\t"
   ]
  },
  {
   "cell_type": "markdown",
   "id": "hundred-jacob",
   "metadata": {},
   "source": [
    "### 파일/폴더 삭제하기"
   ]
  },
  {
   "cell_type": "markdown",
   "id": "controlling-union",
   "metadata": {},
   "source": [
    "파일의 삭제는 휴지통(recycle bin)으로 옮겨가는 것이 아니라 완전한 삭제를 의미하기 때문에 신중하게 사용하는 것이 좋다. 만약 휴지통으로 옮기는 기능을 수행하고 싶다면 <a href=\"https://pypi.org/project/Send2Trash/\">Send2Trash</a>와 같은 라이브러리를 별도로 설치해서 사용해야 한다."
   ]
  },
  {
   "cell_type": "markdown",
   "id": "demanding-shell",
   "metadata": {},
   "source": [
    "- 파일 삭제 : <code>Path(파일경로).unlink()</code>\n",
    "- 폴더 삭제 : <code>shutil.rmtree()</code>"
   ]
  },
  {
   "cell_type": "code",
   "execution_count": null,
   "id": "bearing-beatles",
   "metadata": {},
   "outputs": [],
   "source": [
    "from pathlib import Path\n",
    "\n",
    "Path(\"files/12345.txt\").unlink()"
   ]
  },
  {
   "cell_type": "markdown",
   "id": "prostate-production",
   "metadata": {},
   "source": [
    "폴더의 삭제는 <code>Path(폴더경로).unlink()</code> 함수로는 수행이 불가능하다. 대신 <a href=\"https://python.flowdas.com/library/shutil.html\">shutil</a> 모듈을 이용한다."
   ]
  },
  {
   "cell_type": "code",
   "execution_count": null,
   "id": "variable-cement",
   "metadata": {},
   "outputs": [],
   "source": [
    "import shutil\n",
    "\n",
    "shutil.rmtree(\"새 폴더\")"
   ]
  },
  {
   "cell_type": "markdown",
   "id": "understanding-convergence",
   "metadata": {},
   "source": [
    "이 또한 휴지통으로 이동 시키는 것이 아니라 완전한 삭제를 의미한다."
   ]
  },
  {
   "cell_type": "markdown",
   "id": "abroad-enterprise",
   "metadata": {},
   "source": [
    "### 파일/폴더 복사하기"
   ]
  },
  {
   "cell_type": "markdown",
   "id": "owned-monitor",
   "metadata": {},
   "source": [
    "- 파일 복사 : <code>shutil.copyfile()</code>\n",
    "- 폴더 복사 : <code>shutil.copytree()</code>"
   ]
  },
  {
   "cell_type": "code",
   "execution_count": null,
   "id": "attractive-huntington",
   "metadata": {},
   "outputs": [],
   "source": [
    "import shutil\n",
    "\n",
    "shutil.copyfile(\"files/test.txt\", \"files/test - 복사본.txt\")\n",
    "shutil.copytree(\"files\", \"files - 복사본\")"
   ]
  },
  {
   "cell_type": "markdown",
   "id": "defined-measure",
   "metadata": {},
   "source": [
    "# 실습: 반복문을 활용해서 파일명 일괄 수정하기"
   ]
  },
  {
   "cell_type": "markdown",
   "id": "inclusive-chart",
   "metadata": {},
   "source": [
    "실습 준비 (파일명 랜덤 생성)"
   ]
  },
  {
   "cell_type": "code",
   "execution_count": null,
   "id": "together-trauma",
   "metadata": {},
   "outputs": [],
   "source": [
    "from pathlib import Path\n",
    "import uuid\n",
    "\n",
    "폴더명 = \"새 폴더\"\n",
    "\n",
    "Path(폴더명).mkdir(exist_ok=True)\n",
    "\n",
    "for n in range(20):\n",
    "    fname = f'{폴더명}/{uuid.uuid4()}.txt'\n",
    "    f = open(fname, 'w')\n",
    "    f.close()"
   ]
  },
  {
   "cell_type": "markdown",
   "id": "stuffed-salmon",
   "metadata": {},
   "source": [
    "## 모든 파일명 앞/뒤에 특정 문자열 추가하기"
   ]
  },
  {
   "cell_type": "markdown",
   "id": "hearing-database",
   "metadata": {},
   "source": [
    "앞에 \"수정_\"이라는 텍스트를 붙여보자"
   ]
  },
  {
   "cell_type": "code",
   "execution_count": null,
   "id": "friendly-sight",
   "metadata": {},
   "outputs": [],
   "source": [
    "from pathlib import Path\n",
    "\n",
    "for 파일 in Path(\"새 폴더\").iterdir():\n",
    "    Path(파일).rename(f'새 폴더/수정_{Path(파일).name}')"
   ]
  },
  {
   "cell_type": "markdown",
   "id": "damaged-stability",
   "metadata": {},
   "source": [
    "이번엔 뒤에 \"_최종\"이라는 이름을 붙여보자."
   ]
  },
  {
   "cell_type": "code",
   "execution_count": null,
   "id": "activated-gibson",
   "metadata": {},
   "outputs": [],
   "source": [
    "from pathlib import Path\n",
    "\n",
    "for 파일 in Path(\"새 폴더\").iterdir():\n",
    "    Path(파일).rename(f'새 폴더/{Path(파일).stem}_최종{Path(파일).suffix}')"
   ]
  },
  {
   "cell_type": "markdown",
   "id": "logical-muslim",
   "metadata": {},
   "source": [
    "## 모든 파일에 순서대로 번호 부여하기"
   ]
  },
  {
   "cell_type": "markdown",
   "id": "brutal-catholic",
   "metadata": {},
   "source": [
    "반복문을 돌며 해당 번호를 하나씩 +1 하는 방식."
   ]
  },
  {
   "cell_type": "code",
   "execution_count": null,
   "id": "atmospheric-marathon",
   "metadata": {},
   "outputs": [],
   "source": [
    "from pathlib import Path\n",
    "\n",
    "번호 = 1\n",
    "for 파일 in Path(\"새 폴더\").iterdir():\n",
    "    Path(파일).rename(f'새 폴더/{Path(파일).stem}_진짜최종_{번호}{Path(파일).suffix}')\n",
    "    번호 += 1"
   ]
  }
 ],
 "metadata": {
  "kernelspec": {
   "display_name": "venv",
   "language": "python",
   "name": "venv"
  },
  "language_info": {
   "codemirror_mode": {
    "name": "ipython",
    "version": 3
   },
   "file_extension": ".py",
   "mimetype": "text/x-python",
   "name": "python",
   "nbconvert_exporter": "python",
   "pygments_lexer": "ipython3",
   "version": "3.9.4"
  },
  "toc-autonumbering": true
 },
 "nbformat": 4,
 "nbformat_minor": 5
}
