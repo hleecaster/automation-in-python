{
 "cells": [
  {
   "cell_type": "markdown",
   "id": "blind-insurance",
   "metadata": {},
   "source": [
    "# pdf 다루기"
   ]
  },
  {
   "cell_type": "markdown",
   "id": "advanced-intermediate",
   "metadata": {},
   "source": [
    "## pdf 문서에서 텍스트 추출하기"
   ]
  },
  {
   "cell_type": "markdown",
   "id": "modern-volleyball",
   "metadata": {},
   "source": [
    "파이썬 라이브러리 <a href=\"https://pypi.org/project/tika/\">tika</a>를 통해 간단하게 텍스트를 추출해서 메모장에 저장하는 코드를 작성해보자. (여러 라이브러리가 있지만 그 중에서 tika가 비교적 성능이 좋고 사용법이 간편하다.)"
   ]
  },
  {
   "cell_type": "markdown",
   "id": "stone-perspective",
   "metadata": {},
   "source": [
    "<pre>pip install tika</pre>"
   ]
  },
  {
   "cell_type": "code",
   "execution_count": null,
   "id": "enormous-davis",
   "metadata": {},
   "outputs": [],
   "source": [
    "from tika import parser\n",
    "\n",
    "data = parser.from_file(\"files/예시.pdf\")\n",
    "content = data[\"content\"].strip()\n",
    "\n",
    "txt = open(\"output.txt\", 'w', encoding='utf-8')\n",
    "print(content, file=txt)\n",
    "txt.close()"
   ]
  },
  {
   "cell_type": "markdown",
   "id": "latter-audio",
   "metadata": {},
   "source": [
    "pdf 파일에서 텍스트를 추출할 때는 줄바꿈(개행) 이슈가 존재한다."
   ]
  },
  {
   "cell_type": "markdown",
   "id": "brief-strip",
   "metadata": {},
   "source": [
    "## pdf 파일에서 특정 페이지 추출/분할하기"
   ]
  },
  {
   "cell_type": "markdown",
   "id": "quarterly-photography",
   "metadata": {},
   "source": [
    "<a href=\"https://pypi.org/project/PyPDF2/\">PyPDF2</a>라는 라이브러리를 사용하면 쉽게 페이지를 추출/분할할 수 있다."
   ]
  },
  {
   "cell_type": "markdown",
   "id": "rotary-carbon",
   "metadata": {},
   "source": [
    "<pre>pip install PyPDF2</pre>"
   ]
  },
  {
   "cell_type": "code",
   "execution_count": null,
   "id": "finnish-strike",
   "metadata": {},
   "outputs": [],
   "source": [
    "from PyPDF2 import PdfFileWriter, PdfFileReader\n",
    "\n",
    "원본 = PdfFileReader(open(\"files/예시.pdf\", 'rb'))\n",
    "\n",
    "# writer라는 이름의 pdf작성기를 준비한다.\n",
    "writer = PdfFileWriter()\n",
    "\n",
    "# 원본 pdf파일에서 원하는 페이지를 추출해서 writer에 추가한다.\n",
    "writer.addPage(원본.getPage(0))\n",
    "writer.addPage(원본.getPage(1))\n",
    "writer.addPage(원본.getPage(4))\n",
    "\n",
    "# writer가 새 pdf파일로 저장한다.\n",
    "writer.write(open(\"files/output.pdf\", 'wb'))"
   ]
  },
  {
   "cell_type": "markdown",
   "id": "accompanied-scientist",
   "metadata": {},
   "source": [
    "반복문을 활용하면 일일이 페이지 번호를 지정하지 않고, 특정 페이지 시작과 끝을 지정해서 작성할 수 있다."
   ]
  },
  {
   "cell_type": "code",
   "execution_count": null,
   "id": "herbal-sheriff",
   "metadata": {},
   "outputs": [],
   "source": [
    "from PyPDF2 import PdfFileWriter, PdfFileReader\n",
    "\n",
    "원본 = PdfFileReader(open(\"files/예시.pdf\", 'rb'))\n",
    "\n",
    "writer = PdfFileWriter()\n",
    "\n",
    "for 페이지 in range(1, 10):\n",
    "    writer.addPage(원본.getPage(페이지))\n",
    "    \n",
    "writer.write(open(\"files/output.pdf\", 'wb'))"
   ]
  },
  {
   "cell_type": "markdown",
   "id": "refined-highland",
   "metadata": {},
   "source": [
    "## 여러개의 pdf 파일 병합하기"
   ]
  },
  {
   "cell_type": "markdown",
   "id": "social-mountain",
   "metadata": {},
   "source": [
    "pdf 병합도 PyPDF2 를 사용한다."
   ]
  },
  {
   "cell_type": "code",
   "execution_count": null,
   "id": "intelligent-password",
   "metadata": {},
   "outputs": [],
   "source": [
    "from PyPDF2 import PdfFileMerger, PdfFileReader\n",
    "\n",
    "# merger라는 이름의 pdf병합기를 준비한다.\n",
    "merger = PdfFileMerger()\n",
    "\n",
    "# 준비한 파일들을 하나씩 읽은 후, merger에 추가한다.\n",
    "merger.append(PdfFileReader(open(\"files/1.pdf\", 'rb')))\n",
    "merger.append(PdfFileReader(open(\"files/2.pdf\", 'rb')))\n",
    "merger.append(PdfFileReader(open(\"files/3.pdf\", 'rb')))\n",
    "merger.append(PdfFileReader(open(\"files/4.pdf\", 'rb')))\n",
    "merger.append(PdfFileReader(open(\"files/5.pdf\", 'rb')))\n",
    "\n",
    "# merger가 새 pdf파일로 저장한다.\n",
    "merger.write(\"files/output.pdf\")"
   ]
  },
  {
   "cell_type": "markdown",
   "id": "prostate-banks",
   "metadata": {},
   "source": [
    "반복문을 활용하면 일일이 파일명을 지정하지 않고, 하나로 쉽게 합칠 수 있다."
   ]
  },
  {
   "cell_type": "code",
   "execution_count": null,
   "id": "motivated-tongue",
   "metadata": {},
   "outputs": [],
   "source": [
    "from PyPDF2 import PdfFileMerger, PdfFileReader\n",
    "from pathlib import Path\n",
    "\n",
    "merger = PdfFileMerger()\n",
    "\n",
    "for 파일 in Path(\"files\").iterdir():\n",
    "    merger.append(PdfFileReader(open(파일, 'rb')))\n",
    "    \n",
    "merger.write(\"files/output.pdf\")"
   ]
  },
  {
   "cell_type": "markdown",
   "id": "distinguished-cathedral",
   "metadata": {},
   "source": [
    "## MS오피스 문서 pdf 파일로 저장하기"
   ]
  },
  {
   "cell_type": "markdown",
   "id": "associate-commander",
   "metadata": {},
   "source": [
    "<a href=\"https://github.com/mhammond/pywin32\">win32com</a>이라는 라이브러리는 윈도우에서 동작하는 MS오피스 프로그램을 직접 다룰 수 있게 도와준다.\n",
    "\n",
    "<pre> pip install pywin32 </pre>\n",
    "\n",
    "그런데 이 라이브러리를 사용할 때는 파일의 \"절대경로\"를 \"문자열\" 타입으로 사용해야 한다는 점에 주의해야 한다. <code>pathlib.Path(파일명).resolve()</code>를 사용해 절대경로를 구한 후, 이를 <code>str()</code>함수를 사용해 문자열로 변환시키면 된다."
   ]
  },
  {
   "cell_type": "code",
   "execution_count": null,
   "id": "indoor-folder",
   "metadata": {},
   "outputs": [],
   "source": [
    "from pathlib import Path\n",
    "\n",
    "파일경로 = str(Path(\"files/test.pptx\").resolve())\n",
    "저장경로 = str(Path(\"files/test.pdf\").resolve())\n",
    "\n",
    "print(파일경로)\n",
    "print(저장경로)"
   ]
  },
  {
   "cell_type": "markdown",
   "id": "specialized-rochester",
   "metadata": {},
   "source": [
    "### Word"
   ]
  },
  {
   "cell_type": "markdown",
   "id": "controversial-observer",
   "metadata": {},
   "source": [
    "저장할 때 <code>FileName=저장경로</code>에 이어서 <code>FileFormat=17</code>을 명시하는 점에 주목하자."
   ]
  },
  {
   "cell_type": "code",
   "execution_count": null,
   "id": "applied-inspiration",
   "metadata": {},
   "outputs": [],
   "source": [
    "from win32com.client import Dispatch\n",
    "from pathlib import Path\n",
    "\n",
    "파일경로 = str(Path(\"files/test.docx\").resolve())\n",
    "저장경로 = str(Path(\"files/워드.pdf\").resolve())\n",
    "\n",
    "word = Dispatch(\"Word.Application\")\n",
    "word.Visible = True\n",
    "\n",
    "file = word.Documents.Open(파일경로)\n",
    "file.SaveAs(FileName=저장경로, FileFormat=17)\n",
    "\n",
    "file.Close()\n",
    "file = None\n",
    "\n",
    "word.Quit()"
   ]
  },
  {
   "cell_type": "markdown",
   "id": "subject-coordinate",
   "metadata": {},
   "source": [
    "### Powerpoint"
   ]
  },
  {
   "cell_type": "markdown",
   "id": "grateful-skating",
   "metadata": {},
   "source": [
    "저장할 때 <code>FileName=저장경로</code>에 이어서 <code>FileFormat=32</code>을 명시하는 점에 주목하자."
   ]
  },
  {
   "cell_type": "code",
   "execution_count": null,
   "id": "lesser-shift",
   "metadata": {},
   "outputs": [],
   "source": [
    "from win32com.client import Dispatch\n",
    "from pathlib import Path\n",
    "\n",
    "파일경로 = str(Path(\"files/test.pptx\").resolve())\n",
    "저장경로 = str(Path(\"files/피피티.pdf\").resolve())\n",
    "\n",
    "powerpoint = Dispatch(\"Powerpoint.Application\")\n",
    "powerpoint.Visible = True\n",
    "\n",
    "file = powerpoint.Presentations.Open(파일경로)\n",
    "file.SaveAs(FileName=저장경로, FileFormat=32)\n",
    "\n",
    "file.Close()\n",
    "file = None\n",
    "\n",
    "powerpoint.Quit()"
   ]
  },
  {
   "cell_type": "markdown",
   "id": "unlikely-outside",
   "metadata": {},
   "source": [
    "### Excel"
   ]
  },
  {
   "cell_type": "markdown",
   "id": "confused-thomson",
   "metadata": {},
   "source": [
    "저장할 때 <code>Type=0</code>을 먼저 명시한 후, 이어서 <code>Filename=저장경로</code>를 적어주는 점에 주목하자."
   ]
  },
  {
   "cell_type": "code",
   "execution_count": null,
   "id": "apparent-rally",
   "metadata": {},
   "outputs": [],
   "source": [
    "from win32com.client import Dispatch\n",
    "from pathlib import Path\n",
    "\n",
    "파일경로 = str(Path(\"files/test.xlsx\").resolve())\n",
    "저장경로 = str(Path(\"files/엑셀.pdf\").resolve())\n",
    "\n",
    "excel = Dispatch(\"Excel.Application\")\n",
    "excel.Visible = True\n",
    "\n",
    "file = excel.Workbooks.Open(파일경로)\n",
    "file.ExportAsFixedFormat(Type=0, Filename=저장경로)\n",
    "\n",
    "file.Close()\n",
    "file = None\n",
    "\n",
    "excel.Quit()"
   ]
  },
  {
   "cell_type": "markdown",
   "id": "inclusive-mathematics",
   "metadata": {},
   "source": [
    "# (실습) 엑셀을 활용해 대량의 개인별 pdf 보고서 만들기"
   ]
  },
  {
   "cell_type": "code",
   "execution_count": null,
   "id": "amateur-patrick",
   "metadata": {},
   "outputs": [],
   "source": [
    "from win32com.client import Dispatch\n",
    "from pathlib import Path\n",
    "\n",
    "파일경로 = str(Path(\"files/보고서.xlsx\").resolve())\n",
    "\n",
    "excel = Dispatch(\"Excel.Application\")\n",
    "excel.Visible = True\n",
    "\n",
    "file = excel.Workbooks.Open(파일경로)\n",
    "\n",
    "# 시트 이름 지정\n",
    "report = file.Worksheets(\"보고서\")\n",
    "# 시트 선택\n",
    "report.Select()\n",
    "\n",
    "for 번호 in range(1,6):\n",
    "    # 특정 셀에 번호 입력\n",
    "    report.Cells(2, 1).Value = 번호\n",
    "    # 해당 이름으로 보고서 저장    \n",
    "    이름 = report.Cells(2, 2).Value\n",
    "    저장경로 = str(Path(f\"{번호}_{이름}.pdf\").resolve())\n",
    "    # 현재 활성화된 시트(ActiveSheet)를 저장\n",
    "    file.ActiveSheet.ExportAsFixedFormat(Type=0, Filename=저장경로)\n",
    "\n",
    "# 변경사항 저장 False\n",
    "file.Close(False)\n",
    "file = None\n",
    "\n",
    "excel.Quit()"
   ]
  },
  {
   "cell_type": "code",
   "execution_count": null,
   "id": "musical-david",
   "metadata": {},
   "outputs": [],
   "source": []
  }
 ],
 "metadata": {
  "kernelspec": {
   "display_name": "venv",
   "language": "python",
   "name": "venv"
  },
  "language_info": {
   "codemirror_mode": {
    "name": "ipython",
    "version": 3
   },
   "file_extension": ".py",
   "mimetype": "text/x-python",
   "name": "python",
   "nbconvert_exporter": "python",
   "pygments_lexer": "ipython3",
   "version": "3.9.4"
  },
  "toc-autonumbering": true
 },
 "nbformat": 4,
 "nbformat_minor": 5
}
