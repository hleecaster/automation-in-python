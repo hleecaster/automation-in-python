{
 "cells": [
  {
   "cell_type": "markdown",
   "id": "corporate-cabinet",
   "metadata": {},
   "source": [
    "# 파이썬으로 엑셀 다루기"
   ]
  },
  {
   "cell_type": "markdown",
   "id": "stupid-arcade",
   "metadata": {},
   "source": [
    "<a href=\"https://pypi.org/project/openpyxl/\">openpyxl</a> 이라는 라이브러리를 활용한다. 엑셀 파일을 다루는 라이브러리 중 사용법이 간편하고 가벼워서 가장 널리 사용된다."
   ]
  },
  {
   "cell_type": "markdown",
   "id": "comparative-grass",
   "metadata": {},
   "source": [
    "<pre>pip install openpyxl</pre>"
   ]
  },
  {
   "cell_type": "markdown",
   "id": "instructional-buffalo",
   "metadata": {},
   "source": [
    "## 엑셀 파일 읽기"
   ]
  },
  {
   "cell_type": "markdown",
   "id": "outer-massachusetts",
   "metadata": {},
   "source": [
    "### 파일 열기"
   ]
  },
  {
   "cell_type": "code",
   "execution_count": 1,
   "id": "right-politics",
   "metadata": {},
   "outputs": [
    {
     "name": "stdout",
     "output_type": "stream",
     "text": [
      "['시트1', '시트2', '시트3']\n"
     ]
    }
   ],
   "source": [
    "from openpyxl import load_workbook\n",
    "\n",
    "wb = load_workbook(\"files/예제1.xlsx\", data_only=True, read_only=True)\n",
    "\n",
    "# 해당 워크북에 있는 시트 이름 리스트\n",
    "print(wb.sheetnames)"
   ]
  },
  {
   "cell_type": "markdown",
   "id": "forward-trick",
   "metadata": {},
   "source": [
    "wb이라는 이름으로 워크북(엑셀파일)을 다루다가 저장하는 과정이라 이해하면 된다. 이 때 함수가 아닌 값만 가져오고 싶다면 <code>read_only=True</code>, 수정작업 없이 안전하게 읽기만 하려면 <code>read_only=True</code>를 지정해주면 된다."
   ]
  },
  {
   "cell_type": "markdown",
   "id": "heard-louisiana",
   "metadata": {},
   "source": [
    "엑셀은 여러개의 워크시트를 담을 수 있기 때문에 어떤 워크시트들이 있는지 확인해볼 필요가 있다. <code>wb.sheetnames</code> 를 사용하면 해당 워크북에 있는 워크시트들의 이름을 리스트 형식으로 돌려주는 걸 알 수 있다."
   ]
  },
  {
   "cell_type": "markdown",
   "id": "swedish-blocking",
   "metadata": {},
   "source": [
    "### 특정 셀 값 읽기"
   ]
  },
  {
   "cell_type": "markdown",
   "id": "separated-fairy",
   "metadata": {},
   "source": [
    "\"시트2\"이라는 시트를 선택해서 \"B2\"셀에 있는 값을 출력해보자."
   ]
  },
  {
   "cell_type": "code",
   "execution_count": 2,
   "id": "instructional-hampshire",
   "metadata": {},
   "outputs": [
    {
     "name": "stdout",
     "output_type": "stream",
     "text": [
      "안녕2\n",
      "안녕2\n"
     ]
    }
   ],
   "source": [
    "from openpyxl import load_workbook\n",
    "\n",
    "wb = load_workbook(\"files/예제1.xlsx\", data_only=True)\n",
    "\n",
    "# 활성화된 시트를 ws라는 변수에 저장\n",
    "ws = wb.active\n",
    "# 시트이름을 직접 명시해 ws라는 변수에 저장\n",
    "ws = wb[\"시트2\"]\n",
    "\n",
    "# 셀 값 읽는 방법 1\n",
    "print(ws[\"B2\"].value)\n",
    "# 셀 값 읽는 방법 2\n",
    "print(ws.cell(2,2).value)"
   ]
  },
  {
   "cell_type": "markdown",
   "id": "interstate-crash",
   "metadata": {},
   "source": [
    "<code>ws</code>라는 변수에 특정 워크시트를 <code>wb[시트이름]</code>라는 방식으로 지정해 읽어온 것을 알 수 있다. (시트명을 알고 있을 때는 <code>ws = wb[시트이름]</code>와 같이 직접 명시해서 사용하자. 만약 파일을 열었을 때 처음 등장하는, 즉 활성화된 시트를 사용하고 싶다면 <code>ws = wb.active</code>를 사용하면 된다.)"
   ]
  },
  {
   "cell_type": "markdown",
   "id": "stuck-dictionary",
   "metadata": {},
   "source": [
    "<code>ws</code> 시트 내에 있는 특정 셀 값을 읽어오는 방법은 두 가지다. 편한 방법으로 사용하면 된다.\n",
    "\n",
    "- 셀 주소 직접 입력 : <code>ws[셀주소].value</code>\n",
    "- 행/열 번호 입력 : <code>ws.cell(행, 열).value</code>\n",
    "\n",
    "행/열 번호를 명시할 때 1부터 시작하는 점에 유의하자. (파이썬은 숫자를 셀 때 0부터 시작하지만, openpyxl에서 행/열을 셀 때는 1부터 시작한다.)"
   ]
  },
  {
   "cell_type": "markdown",
   "id": "complete-taylor",
   "metadata": {},
   "source": [
    "### 특정 범위의 값을 한 번에 가져오기"
   ]
  },
  {
   "cell_type": "markdown",
   "id": "driven-produce",
   "metadata": {},
   "source": [
    "#### 범위를 직접 지정해서 행 단위로 탐색"
   ]
  },
  {
   "cell_type": "code",
   "execution_count": 3,
   "id": "express-caribbean",
   "metadata": {},
   "outputs": [
    {
     "name": "stdout",
     "output_type": "stream",
     "text": [
      "2020.5.1\n",
      " 0:00:00\n",
      "log-data at '2020-5-1  0:00:00'\n",
      "2020.5.1\n",
      " 1:00:00\n",
      "log-data at '2020-5-1  1:00:00'\n",
      "2020.5.1\n",
      " 2:00:00\n",
      "log-data at '2020-5-1  2:00:00'\n",
      "2020.5.1\n",
      " 3:00:00\n",
      "log-data at '2020-5-1  3:00:00'\n",
      "2020.5.1\n",
      " 4:00:00\n",
      "log-data at '2020-5-1  4:00:00'\n",
      "2020.5.1\n",
      " 5:00:00\n",
      "log-data at '2020-5-1  5:00:00'\n",
      "2020.5.1\n",
      " 6:00:00\n",
      "log-data at '2020-5-1  6:00:00'\n",
      "2020.5.1\n",
      " 7:00:00\n",
      "log-data at '2020-5-1  7:00:00'\n",
      "2020.5.1\n",
      " 8:00:00\n",
      "log-data at '2020-5-1  8:00:00'\n",
      "2020.5.1\n",
      " 9:00:00\n",
      "log-data at '2020-5-1  9:00:00'\n",
      "2020.5.1\n",
      "10:00:00\n",
      "log-data at '2020-5-1 10:00:00'\n",
      "2020.5.1\n",
      "11:00:00\n",
      "log-data at '2020-5-1 11:00:00'\n",
      "2020.5.1\n",
      "12:00:00\n",
      "log-data at '2020-5-1 12:00:00'\n",
      "2020.5.1\n",
      "13:00:00\n",
      "log-data at '2020-5-1 13:00:00'\n",
      "2020.5.1\n",
      "14:00:00\n",
      "log-data at '2020-5-1 14:00:00'\n",
      "2020.5.1\n",
      "15:00:00\n",
      "log-data at '2020-5-1 15:00:00'\n",
      "2020.5.1\n",
      "16:00:00\n",
      "log-data at '2020-5-1 16:00:00'\n",
      "2020.5.1\n",
      "17:00:00\n",
      "log-data at '2020-5-1 17:00:00'\n",
      "2020.5.1\n",
      "18:00:00\n",
      "log-data at '2020-5-1 18:00:00'\n",
      "2020.5.1\n",
      "19:00:00\n",
      "log-data at '2020-5-1 19:00:00'\n",
      "2020.5.1\n",
      "20:00:00\n",
      "log-data at '2020-5-1 20:00:00'\n",
      "2020.5.1\n",
      "21:00:00\n",
      "log-data at '2020-5-1 21:00:00'\n",
      "2020.5.1\n",
      "22:00:00\n",
      "log-data at '2020-5-1 22:00:00'\n",
      "2020.5.1\n",
      "23:00:00\n",
      "log-data at '2020-5-1 23:00:00'\n"
     ]
    }
   ],
   "source": [
    "from openpyxl import load_workbook\n",
    "\n",
    "wb = load_workbook(\"files/2020.5.1.xlsx\", data_only=True)\n",
    "\n",
    "ws = wb[\"Sheet\"]\n",
    "\n",
    "for 행 in ws[\"A1:C24\"]:\n",
    "    for cell in 행:\n",
    "        print(cell.value)"
   ]
  },
  {
   "cell_type": "markdown",
   "id": "variable-shell",
   "metadata": {},
   "source": [
    "#### 값이 존재하는 곳까지 행/열 단위로 탐색"
   ]
  },
  {
   "cell_type": "markdown",
   "id": "insured-enterprise",
   "metadata": {},
   "source": [
    "openpyxl에서는 시트 내에서 값 존재하는 영역까지 행 단위, 또는 열 단위로 시트를 탐색하는 <code>iter_rows()</code>, <code>iter_cols()</code>함수를 제공하기 때문에 직접 범위를 지정하지 않아도, 혹은 값이 존재하는지 확인하는 조건문을 사용하지 않아도 시트 내의 모든 값을 읽어올 수 있다."
   ]
  },
  {
   "cell_type": "markdown",
   "id": "meaningful-credits",
   "metadata": {},
   "source": [
    "행"
   ]
  },
  {
   "cell_type": "code",
   "execution_count": 4,
   "id": "latter-october",
   "metadata": {},
   "outputs": [
    {
     "name": "stdout",
     "output_type": "stream",
     "text": [
      "2020.5.1\n",
      " 0:00:00\n",
      "log-data at '2020-5-1  0:00:00'\n",
      "2020.5.1\n",
      " 1:00:00\n",
      "log-data at '2020-5-1  1:00:00'\n",
      "2020.5.1\n",
      " 2:00:00\n",
      "log-data at '2020-5-1  2:00:00'\n",
      "2020.5.1\n",
      " 3:00:00\n",
      "log-data at '2020-5-1  3:00:00'\n",
      "2020.5.1\n",
      " 4:00:00\n",
      "log-data at '2020-5-1  4:00:00'\n",
      "2020.5.1\n",
      " 5:00:00\n",
      "log-data at '2020-5-1  5:00:00'\n",
      "2020.5.1\n",
      " 6:00:00\n",
      "log-data at '2020-5-1  6:00:00'\n",
      "2020.5.1\n",
      " 7:00:00\n",
      "log-data at '2020-5-1  7:00:00'\n",
      "2020.5.1\n",
      " 8:00:00\n",
      "log-data at '2020-5-1  8:00:00'\n",
      "2020.5.1\n",
      " 9:00:00\n",
      "log-data at '2020-5-1  9:00:00'\n",
      "2020.5.1\n",
      "10:00:00\n",
      "log-data at '2020-5-1 10:00:00'\n",
      "2020.5.1\n",
      "11:00:00\n",
      "log-data at '2020-5-1 11:00:00'\n",
      "2020.5.1\n",
      "12:00:00\n",
      "log-data at '2020-5-1 12:00:00'\n",
      "2020.5.1\n",
      "13:00:00\n",
      "log-data at '2020-5-1 13:00:00'\n",
      "2020.5.1\n",
      "14:00:00\n",
      "log-data at '2020-5-1 14:00:00'\n",
      "2020.5.1\n",
      "15:00:00\n",
      "log-data at '2020-5-1 15:00:00'\n",
      "2020.5.1\n",
      "16:00:00\n",
      "log-data at '2020-5-1 16:00:00'\n",
      "2020.5.1\n",
      "17:00:00\n",
      "log-data at '2020-5-1 17:00:00'\n",
      "2020.5.1\n",
      "18:00:00\n",
      "log-data at '2020-5-1 18:00:00'\n",
      "2020.5.1\n",
      "19:00:00\n",
      "log-data at '2020-5-1 19:00:00'\n",
      "2020.5.1\n",
      "20:00:00\n",
      "log-data at '2020-5-1 20:00:00'\n",
      "2020.5.1\n",
      "21:00:00\n",
      "log-data at '2020-5-1 21:00:00'\n",
      "2020.5.1\n",
      "22:00:00\n",
      "log-data at '2020-5-1 22:00:00'\n",
      "2020.5.1\n",
      "23:00:00\n",
      "log-data at '2020-5-1 23:00:00'\n"
     ]
    }
   ],
   "source": [
    "from openpyxl import load_workbook\n",
    "\n",
    "wb = load_workbook(\"files/2020.5.1.xlsx\", data_only=True)\n",
    "\n",
    "ws = wb[\"Sheet\"]\n",
    "\n",
    "for 행 in ws.iter_rows():\n",
    "    for cell in 행:\n",
    "        print(cell.value)"
   ]
  },
  {
   "cell_type": "markdown",
   "id": "bigger-adoption",
   "metadata": {},
   "source": [
    "열"
   ]
  },
  {
   "cell_type": "code",
   "execution_count": 5,
   "id": "vanilla-harassment",
   "metadata": {},
   "outputs": [
    {
     "name": "stdout",
     "output_type": "stream",
     "text": [
      "2020.5.1\n",
      "2020.5.1\n",
      "2020.5.1\n",
      "2020.5.1\n",
      "2020.5.1\n",
      "2020.5.1\n",
      "2020.5.1\n",
      "2020.5.1\n",
      "2020.5.1\n",
      "2020.5.1\n",
      "2020.5.1\n",
      "2020.5.1\n",
      "2020.5.1\n",
      "2020.5.1\n",
      "2020.5.1\n",
      "2020.5.1\n",
      "2020.5.1\n",
      "2020.5.1\n",
      "2020.5.1\n",
      "2020.5.1\n",
      "2020.5.1\n",
      "2020.5.1\n",
      "2020.5.1\n",
      "2020.5.1\n",
      " 0:00:00\n",
      " 1:00:00\n",
      " 2:00:00\n",
      " 3:00:00\n",
      " 4:00:00\n",
      " 5:00:00\n",
      " 6:00:00\n",
      " 7:00:00\n",
      " 8:00:00\n",
      " 9:00:00\n",
      "10:00:00\n",
      "11:00:00\n",
      "12:00:00\n",
      "13:00:00\n",
      "14:00:00\n",
      "15:00:00\n",
      "16:00:00\n",
      "17:00:00\n",
      "18:00:00\n",
      "19:00:00\n",
      "20:00:00\n",
      "21:00:00\n",
      "22:00:00\n",
      "23:00:00\n",
      "log-data at '2020-5-1  0:00:00'\n",
      "log-data at '2020-5-1  1:00:00'\n",
      "log-data at '2020-5-1  2:00:00'\n",
      "log-data at '2020-5-1  3:00:00'\n",
      "log-data at '2020-5-1  4:00:00'\n",
      "log-data at '2020-5-1  5:00:00'\n",
      "log-data at '2020-5-1  6:00:00'\n",
      "log-data at '2020-5-1  7:00:00'\n",
      "log-data at '2020-5-1  8:00:00'\n",
      "log-data at '2020-5-1  9:00:00'\n",
      "log-data at '2020-5-1 10:00:00'\n",
      "log-data at '2020-5-1 11:00:00'\n",
      "log-data at '2020-5-1 12:00:00'\n",
      "log-data at '2020-5-1 13:00:00'\n",
      "log-data at '2020-5-1 14:00:00'\n",
      "log-data at '2020-5-1 15:00:00'\n",
      "log-data at '2020-5-1 16:00:00'\n",
      "log-data at '2020-5-1 17:00:00'\n",
      "log-data at '2020-5-1 18:00:00'\n",
      "log-data at '2020-5-1 19:00:00'\n",
      "log-data at '2020-5-1 20:00:00'\n",
      "log-data at '2020-5-1 21:00:00'\n",
      "log-data at '2020-5-1 22:00:00'\n",
      "log-data at '2020-5-1 23:00:00'\n"
     ]
    }
   ],
   "source": [
    "from openpyxl import load_workbook\n",
    "\n",
    "wb = load_workbook(\"files/2020.5.1.xlsx\", data_only=True)\n",
    "\n",
    "ws = wb[\"Sheet\"]\n",
    "\n",
    "for 열 in ws.iter_cols():\n",
    "    for cell in 열:\n",
    "        print(cell.value)"
   ]
  },
  {
   "cell_type": "markdown",
   "id": "curious-yorkshire",
   "metadata": {},
   "source": [
    "## 엑셀 파일 쓰기 / 서식 지정하기"
   ]
  },
  {
   "cell_type": "markdown",
   "id": "opened-temperature",
   "metadata": {},
   "source": [
    "### 기존 파일 수정 VS 새로운 파일 생성"
   ]
  },
  {
   "cell_type": "markdown",
   "id": "funded-reducing",
   "metadata": {},
   "source": [
    "기존 엑셀 파일을 수정하려면 <code>load_workbook(파일명)</code>을 사용해도 되지만, 만약 새로운 엑셀을 파일 생성해서 작업할 때는 <code>Workbook()</code>을 사용한다."
   ]
  },
  {
   "cell_type": "code",
   "execution_count": 6,
   "id": "twenty-calgary",
   "metadata": {},
   "outputs": [],
   "source": [
    "# 1. 기존 엑셀파일에 수정 작업하려면\n",
    "from openpyxl import load_workbook\n",
    "wb = load_workbook(\"files/예제1.xlsx\")\n",
    "\n",
    "# 2, 새로운 엑셀파일 생성하여 작업하려면\n",
    "from openpyxl import Workbook\n",
    "wb = Workbook()\n",
    "\n",
    "# 파일을 쓰고 나면 항상 저장을 해야 한다.\n",
    "wb.save(\"files/예제2.xlsx\")"
   ]
  },
  {
   "cell_type": "markdown",
   "id": "aware-jewelry",
   "metadata": {},
   "source": [
    "만약 새로운 시트를 만들고 싶다면 <code>wb.create_sheet(시트이름)</code>을 사용하면 된다."
   ]
  },
  {
   "cell_type": "code",
   "execution_count": 7,
   "id": "removable-indiana",
   "metadata": {},
   "outputs": [
    {
     "name": "stdout",
     "output_type": "stream",
     "text": [
      "['Sheet', '새로운시트']\n"
     ]
    }
   ],
   "source": [
    "from openpyxl import Workbook\n",
    "\n",
    "wb = Workbook()\n",
    "\n",
    "wb.create_sheet(\"새로운시트\")\n",
    "\n",
    "# 해당 워크북에 있는 시트 이름 리스트 확인\n",
    "print(wb.sheetnames)\n",
    "\n",
    "wb.save(\"files/예제2.xlsx\")"
   ]
  },
  {
   "cell_type": "markdown",
   "id": "fundamental-procedure",
   "metadata": {},
   "source": [
    "만약 이미 존재하는 시트의 이름을 바꾸고 싶다면 <code>ws.title = 새로운시트이름</code>을 사용하면 된다."
   ]
  },
  {
   "cell_type": "code",
   "execution_count": 8,
   "id": "early-baking",
   "metadata": {},
   "outputs": [
    {
     "name": "stdout",
     "output_type": "stream",
     "text": [
      "['시트이름수정']\n"
     ]
    }
   ],
   "source": [
    "from openpyxl import Workbook\n",
    "\n",
    "wb = Workbook()\n",
    "\n",
    "ws = wb.active\n",
    "ws.title = \"시트이름수정\"\n",
    "\n",
    "# 해당 워크북에 있는 시트 이름 리스트 확인\n",
    "print(wb.sheetnames)\n",
    "\n",
    "wb.save(\"files/예제2.xlsx\")"
   ]
  },
  {
   "cell_type": "markdown",
   "id": "polish-criticism",
   "metadata": {},
   "source": [
    "### 특정 셀에 값 입력하기"
   ]
  },
  {
   "cell_type": "markdown",
   "id": "ruled-mileage",
   "metadata": {},
   "source": [
    "특정 워크시트 내에 있는 특정 셀에 값을 입력하는 방법은 (값을 읽을 때와 마찬가지) 두 가지다. \n",
    "\n",
    "- 셀 주소 직접 입력 : <code>ws[셀주소] = 값</code>\n",
    "- 행/열 번호 입력 : <code>ws.cell(행, 열).value = 값</code>"
   ]
  },
  {
   "cell_type": "code",
   "execution_count": 9,
   "id": "emerging-stream",
   "metadata": {},
   "outputs": [],
   "source": [
    "from openpyxl import Workbook\n",
    "\n",
    "wb = Workbook()\n",
    "ws = wb[\"Sheet\"]\n",
    "\n",
    "# 값 입력 방법 1: 셀 주소 입력\n",
    "ws[\"A1\"] = \"이름\"\n",
    "ws[\"B1\"] = \"성별\"\n",
    "ws[\"C1\"] = \"나이\"\n",
    "ws[\"D1\"] = \"주소\"\n",
    "\n",
    "# 값 입력 방법 2: 행/열 번호 입력\n",
    "ws.cell(2, 1).value = \"홍길동\"\n",
    "ws.cell(2, 2).value = \"남성\"\n",
    "ws.cell(2, 3).value = \"27\"\n",
    "ws.cell(2, 4).value = \"전라도\"\n",
    "\n",
    "wb.save(\"files/예제2.xlsx\")"
   ]
  },
  {
   "cell_type": "markdown",
   "id": "hollywood-resource",
   "metadata": {},
   "source": [
    "### 특정 범위에 행 단위로 값 입력하기"
   ]
  },
  {
   "cell_type": "code",
   "execution_count": 10,
   "id": "limited-pilot",
   "metadata": {},
   "outputs": [],
   "source": [
    "from openpyxl import load_workbook\n",
    "\n",
    "wb = load_workbook(\"files/예제2.xlsx\")\n",
    "ws = wb[\"Sheet\"]\n",
    "\n",
    "# 방법 1 (리스트, 값을 순서대로 입력)\n",
    "ws.append([\"a1\", \"b1\", None , \"d1\"])\n",
    "# 방법 2 (딕셔너리, 열 이름 기준)\n",
    "ws.append({\"A\": \"a1\", \"C\": \"c1\", \"D\": \"d1\"})\n",
    "# 방법 3 (딕셔너리, 열 번호 기준)\n",
    "ws.append({2: \"b1\", 3: \"c1\", 4: \"d1\"})\n",
    "        \n",
    "wb.save(\"files/예제2.xlsx\")"
   ]
  },
  {
   "cell_type": "markdown",
   "id": "joint-slave",
   "metadata": {},
   "source": [
    "### 서식 적용하기"
   ]
  },
  {
   "cell_type": "markdown",
   "id": "printable-position",
   "metadata": {},
   "source": [
    "#### 정렬, 글꼴, 색 채우기, 테두리"
   ]
  },
  {
   "cell_type": "markdown",
   "id": "intimate-equity",
   "metadata": {},
   "source": [
    "https://openpyxl.readthedocs.io/en/stable/styles.htm"
   ]
  },
  {
   "cell_type": "code",
   "execution_count": 11,
   "id": "million-february",
   "metadata": {},
   "outputs": [],
   "source": [
    "from openpyxl import Workbook\n",
    "# 서식 적용을 위해\n",
    "from openpyxl.styles import Alignment, Font, PatternFill, Border, Side\n",
    "\n",
    "wb = Workbook()\n",
    "ws = wb[\"Sheet\"]\n",
    "\n",
    "ws[\"A1\"] = \"이름\"\n",
    "ws[\"B1\"] = \"성별\"\n",
    "ws[\"C1\"] = \"나이\"\n",
    "ws[\"D1\"] = \"주소\"\n",
    "\n",
    "ws.cell(2, 1).value = \"홍길동\"\n",
    "ws.cell(2, 2).value = \"남성\"\n",
    "ws.cell(2, 3).value = \"27\"\n",
    "ws.cell(2, 4).value = \"전라도\"\n",
    "\n",
    "\n",
    "# 정렬\n",
    "ws[\"A1\"].alignment = Alignment(horizontal=\"center\")\n",
    "# 글꼴\n",
    "ws[\"B1\"].font = Font(name=\"바탕\", size=14, color=\"FF0000\", bold=True, italic=True, underline=\"single\")\n",
    "# 색 채우기\n",
    "ws[\"C1\"].fill = PatternFill(start_color=\"FFFF00\", fill_type=\"solid\")\n",
    "# 테두리\n",
    "ws[\"D1\"].border = Border(left=Side(style=\"thin\"), \n",
    "                         right=Side(style=\"thin\"), \n",
    "                         top=Side(style=\"thick\"), \n",
    "                         bottom=Side(style=\"thick\")\n",
    "                        )\n",
    "\n",
    "wb.save(\"files/예제2.xlsx\")"
   ]
  },
  {
   "cell_type": "markdown",
   "id": "usual-investing",
   "metadata": {},
   "source": [
    "일일히 지정하는 건 너무 복잡하기 때문에 범위를 지정해 반복문을 사용해보자.\n",
    "\n",
    "<pre>row 행 in ws[범위]:\n",
    "    for cell in row:"
   ]
  },
  {
   "cell_type": "code",
   "execution_count": 12,
   "id": "adjustable-marble",
   "metadata": {},
   "outputs": [],
   "source": [
    "from openpyxl import Workbook\n",
    "# 서식 적용을 위해\n",
    "from openpyxl.styles import Alignment, Font, PatternFill, Border, Side\n",
    "\n",
    "wb = Workbook()\n",
    "ws = wb[\"Sheet\"]\n",
    "\n",
    "ws[\"A1\"] = \"이름\"\n",
    "ws[\"B1\"] = \"성별\"\n",
    "ws[\"C1\"] = \"나이\"\n",
    "ws[\"D1\"] = \"주소\"\n",
    "\n",
    "ws.cell(2, 1).value = \"홍길동\"\n",
    "ws.cell(2, 2).value = \"남성\"\n",
    "ws.cell(2, 3).value = \"27\"\n",
    "ws.cell(2, 4).value = \"전라도\"\n",
    "\n",
    "# 특정 범위를 지정해 반복문을 도는 방법\n",
    "for 행 in ws[\"A1:D10\"]:\n",
    "    for cell in 행:\n",
    "        cell.alignment = Alignment(horizontal=\"center\")\n",
    "        cell.font = Font(name=\"본고딕 Heavy\", size=14, color=\"FF0000\", bold=True, italic=True, underline=\"single\")\n",
    "        cell.fill = PatternFill(start_color=\"FFFF00\", fill_type=\"solid\")\n",
    "        cell.border = Border(left=Side(style=\"thin\"), \n",
    "                           right=Side(style=\"thin\"), \n",
    "                           top=Side(style=\"thick\"), \n",
    "                           bottom=Side(style=\"thick\")\n",
    "                          )\n",
    "\n",
    "wb.save(\"files/예제2.xlsx\")"
   ]
  },
  {
   "cell_type": "markdown",
   "id": "thrown-ownership",
   "metadata": {},
   "source": [
    "#### 셀 병합/해제하기"
   ]
  },
  {
   "cell_type": "markdown",
   "id": "indoor-beijing",
   "metadata": {},
   "source": [
    "셀 병합/해제는 <code>merge_cells(범위)</code>, <code>unmerge_cells(범위)</code> 를 사용한다."
   ]
  },
  {
   "cell_type": "code",
   "execution_count": 13,
   "id": "nonprofit-mississippi",
   "metadata": {},
   "outputs": [],
   "source": [
    "from openpyxl import Workbook\n",
    "\n",
    "wb = Workbook()\n",
    "ws = wb[\"Sheet\"]\n",
    "\n",
    "# 셀 병합\n",
    "ws.merge_cells(\"B2:D4\")\n",
    "ws.merge_cells(\"B5:D6\")\n",
    "ws.merge_cells(\"B7:D9\")\n",
    "\n",
    "# 셀 병합 해제\n",
    "ws.unmerge_cells(\"B5:D6\")\n",
    "\n",
    "wb.save(\"files/예제2.xlsx\")"
   ]
  },
  {
   "cell_type": "markdown",
   "id": "tamil-number",
   "metadata": {},
   "source": [
    "#### 행/열 추가/삭제하기"
   ]
  },
  {
   "cell_type": "markdown",
   "id": "moral-thermal",
   "metadata": {},
   "source": [
    "행/열 삽입은 각각 <code>insert_rows()</code>, <code>insert_cols()</code>, 행/열 삭제는 각각 <code>delete_rows()</code>, <code>delete_cols()</code>를 사용한다. 이 때 행/열 번호 뒤에 콤마로 개수를 지정해서, 몇 개를 삽입 혹은 삭제할지 명시할 수 있다."
   ]
  },
  {
   "cell_type": "code",
   "execution_count": 14,
   "id": "frank-bacon",
   "metadata": {},
   "outputs": [],
   "source": [
    "from openpyxl import Workbook\n",
    "\n",
    "wb = Workbook()\n",
    "ws = wb[\"Sheet\"]\n",
    "\n",
    "ws[\"A1\"] = \"이름\"\n",
    "ws[\"B1\"] = \"성별\"\n",
    "ws[\"C1\"] = \"나이\"\n",
    "ws[\"D1\"] = \"주소\"\n",
    "\n",
    "ws.cell(2, 1).value = \"홍길동\"\n",
    "ws.cell(2, 2).value = \"남성\"\n",
    "ws.cell(2, 3).value = \"27\"\n",
    "ws.cell(2, 4).value = \"전라도\"\n",
    "\n",
    "# 행/열 추가 (콤마 뒤에 개수 지정 가능)\n",
    "ws.insert_rows(2)\n",
    "ws.insert_cols(3, 5)\n",
    "\n",
    "# # 행/열 삭제 (콤마 뒤에 개수 지정 가능)\n",
    "ws.delete_rows(1)\n",
    "ws.delete_cols(2,2)\n",
    "\n",
    "wb.save(\"files/예제2.xlsx\")"
   ]
  },
  {
   "cell_type": "markdown",
   "id": "baking-owner",
   "metadata": {},
   "source": [
    "# 실습: 여러 엑셀 파일에 흩어진 값들을 하나로 합치기"
   ]
  },
  {
   "cell_type": "markdown",
   "id": "equal-income",
   "metadata": {},
   "source": [
    "특정 셀에 있는 값 읽어오기"
   ]
  },
  {
   "cell_type": "code",
   "execution_count": 15,
   "id": "opposite-fusion",
   "metadata": {},
   "outputs": [],
   "source": [
    "from openpyxl import load_workbook, Workbook\n",
    "from pathlib import Path\n",
    "\n",
    "# 파일 하나씩 열어서 데이터 가져오기\n",
    "전체데이터 = []\n",
    "for 파일 in Path(\"files\").iterdir():\n",
    "    데이터 = []\n",
    "    wb = load_workbook(파일, data_only=True)\n",
    "    ws = wb.active\n",
    "    데이터.append(ws[\"C2\"].value)\n",
    "    데이터.append(ws[\"E2\"].value)\n",
    "    데이터.append(ws[\"C3\"].value)\n",
    "    데이터.append(ws[\"E3\"].value)\n",
    "    전체데이터.append(데이터)\n",
    "        \n",
    "# 가져온 데이터 새 파일에 쓰기      \n",
    "wb_result = Workbook()\n",
    "ws_result = wb_result.active\n",
    "\n",
    "ws_result.append([\"이름\", \"나이\", \"성별\", \"주소\"])\n",
    "for 행데이터 in 전체데이터:\n",
    "    ws_result.append(행데이터)\n",
    "    \n",
    "wb_result.save(\"실습1.xlsx\")"
   ]
  },
  {
   "cell_type": "markdown",
   "id": "employed-company",
   "metadata": {},
   "source": [
    "행 단위로 탐색해서 값 한 번에 가져오기"
   ]
  },
  {
   "cell_type": "code",
   "execution_count": 16,
   "id": "saved-influence",
   "metadata": {},
   "outputs": [],
   "source": [
    "from openpyxl import load_workbook, Workbook\n",
    "from pathlib import Path\n",
    "\n",
    "# 파일 하나씩 열어서 데이터 가져오기\n",
    "전체데이터 = []\n",
    "for 파일 in Path(\"files\").iterdir():\n",
    "    wb = load_workbook(파일, data_only=True)\n",
    "    ws = wb.active\n",
    "    \n",
    "    for 행 in ws.iter_rows():\n",
    "        행데이터 = []\n",
    "        for cell in 행:\n",
    "            행데이터.append(cell.value)\n",
    "        전체데이터.append(행데이터)\n",
    "        \n",
    "# 가져온 데이터 새 파일에 쓰기      \n",
    "wb_result = Workbook()\n",
    "ws_result = wb_result.active\n",
    "\n",
    "ws_result.append([\"날짜\", \"시간\", \"기록\"])\n",
    "for 행데이터 in 전체데이터:\n",
    "    ws_result.append(행데이터)\n",
    "    \n",
    "wb_result.save(\"실습2.xlsx\")"
   ]
  }
 ],
 "metadata": {
  "kernelspec": {
   "display_name": "venv",
   "language": "python",
   "name": "venv"
  },
  "language_info": {
   "codemirror_mode": {
    "name": "ipython",
    "version": 3
   },
   "file_extension": ".py",
   "mimetype": "text/x-python",
   "name": "python",
   "nbconvert_exporter": "python",
   "pygments_lexer": "ipython3",
   "version": "3.9.4"
  },
  "toc-autonumbering": true
 },
 "nbformat": 4,
 "nbformat_minor": 5
}
