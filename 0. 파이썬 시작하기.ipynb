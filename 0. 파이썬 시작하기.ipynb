{
 "cells": [
  {
   "cell_type": "markdown",
   "id": "progressive-westminster",
   "metadata": {},
   "source": [
    "# 파이썬 시작하기"
   ]
  },
  {
   "cell_type": "markdown",
   "id": "israeli-opera",
   "metadata": {},
   "source": [
    "## 프로그래밍 & 파이썬 소개"
   ]
  },
  {
   "cell_type": "markdown",
   "id": "described-training",
   "metadata": {},
   "source": [
    "### 프로그래밍을 하는 이유\n",
    "\n",
    "컴퓨터에게 일을 시킬 수 있다. 그것도 아주 구체적으로. 그러나 일을 제대로 시키려면  컴퓨터가 이해할 수 있는 언어, 즉 **프로그래밍 언어**로 전달해야 한다.\n",
    "\n",
    "프로그래밍 언어는 다양하지만, 본 강의에서는 파이썬(Python)을 통해 실습을 진행한다. \n",
    "\n",
    "많은 사람들이 파이썬을 선택하는 이유는 쉽기 때문에, 그리고 무료(오픈소스)이기 때문이다. 그리고 이렇게 많은 사람들이 사용하는 만큼 관련 정보가 많다는 뜻이기도 하다. 내가 구현하고 싶은 코드를 누군가 이미 작성해놓았을 가능성이 높고, 모르는 게 있을 때 검색해보면 이미 어딘가에 그러한 질문과 답변을 주고 받은 게시글이 존재한다. 학습 자료도 수없이 많다.\n",
    "\n",
    "굳이 파이썬의 단점을 꼽아보자면 다른 언어에 비해 속도가 느리다는 것. 그러나 파이썬이 아무리 느려도 우리의 머리와 손보다 계산이 빠르니 걱정 말자.\n",
    "\n",
    "파이썬이 특히 잘하는 대표적인 분야는 이런 것들.\n",
    "- 데이터 분석 및 시각화\n",
    "- 머신러닝/딥러닝\n",
    "- 웹 개발\n",
    "\n",
    "물론 파이썬이 못하는 분야도 있다.\n",
    "- 시스템과 밀접한 프로그래밍 영역 (대단히 빠른 속도를 요구하거나 하드웨어를 직접 다루는 프로그램)\n",
    "- 모바일 앱 개발"
   ]
  },
  {
   "cell_type": "markdown",
   "id": "iraqi-brain",
   "metadata": {},
   "source": [
    "### 파이썬으로 일을 자동화 한다는 것\n",
    "\n",
    "우리가 하는 일을 자동화 했을 때 얻는 많은 효과들이 있다. \n",
    "\n",
    "- 수작업에 소요되는 시간을 줄일 수 있다.\n",
    "- 나중에도 이 작업을 재현할 수 있다.\n",
    "- 사람이 작업을 함으로써 자연히 발생하는 오류를 줄일 수 있다. \n",
    "- 다른 작업과 연결해 프로세스를 확장할 수 있다.\n",
    "\n",
    "업무 자동화에 대한 갈증이 있는 사람들은 대부분 **생산성**에 대한 관심이 높다. 그래서 더 적은 시간과 노력을 들여, 더 많은 양의 일을 오류 없이 처리했을 때 뿌듯함을 느끼곤 한다. 반복적인 작업 시간을 최대한 줄이고 보다 효율적으로 일해야 한다는 갈증, 이러한 동기가 업무 자동화의 시작일 것이다."
   ]
  },
  {
   "cell_type": "markdown",
   "id": "falling-dryer",
   "metadata": {},
   "source": [
    "## 파이썬 및 에디터 설치하기"
   ]
  },
  {
   "cell_type": "markdown",
   "id": "interim-personality",
   "metadata": {},
   "source": [
    "### 윈도우에 파이썬 설치하기\n",
    "\n",
    "<a href=\"https://www.python.org/downloads/windows/\">파이썬 공식 홈페이지</a>에서 설치파일 다운 받아 실행하자. (이 때 **Add Python 3.x to PATH**에 체크를 해주는 것이 좋다.)\n",
    "\n",
    "- 참고: https://wikidocs.net/8"
   ]
  },
  {
   "cell_type": "markdown",
   "id": "willing-channels",
   "metadata": {},
   "source": [
    "#### 첫 파이썬 코딩\n",
    "\n",
    "프로그래밍에서 가장 먼저 익혀야 할 문법은 출력문이다. 내가 무슨 작업을 시켰는지 직관적으로 확인할 수 있기 때문이다. 그래서 보통 \"Hello World\"라는 문장을 출력해보는 것으로 시작한다. 첫 코딩을 시작한다.\n",
    "\n",
    "우리도 \"안녕하세요\"라는 텍스트를 출력하는 파이썬 코드를 짜볼 거다. 메모장을 열고 <code>print(\"안녕하세요\")</code>라고 적은 뒤 다른 이름으로 저장을 눌러 **main.py** 라고 저장하자. py는 이 파일이 파이썬으로 작성된 스크립트라는 것을 명시해주는 확장자다. 이제 파이썬이 이 스크립트를 읽고 해석해서 한 줄 씩 실행을 할 수 있게 되었다.\n",
    "\n",
    "이제 이 파일이 저장된 곳에서 cmd(명령 프롬프트)를 실행하고, <code>python main.py</code> 라고 쳐보자."
   ]
  },
  {
   "cell_type": "markdown",
   "id": "boring-vector",
   "metadata": {},
   "source": [
    "#### FAQ : 파이썬을 아나콘다(Anaconda)로 설치하는 것과 무엇이 다른가요?\n",
    "\n",
    "파이썬을 설치한다는 건 파이썬으로 짠 스크립트, 즉 파일 확장자가 .py인 파일을 실행할 수 있는 인터프리터를 설치한다는 뜻이다. \n",
    "가장 순수한 방법은 파이썬 공식 웹사이트에서 설치파일을 다운 받아 실행하는 거다.\n",
    "\n",
    "그런데 파이썬을 오래 사용하다 보면 다양한 라이브러리/패키지를 추가로 설치하게 되고, 이 라이브러리들이 의존성 문제로 복잡하게 얽힐 수 있다. 당장은 용할 수 있지만 시간이 지나면 파이썬과 라이브러리들을 업데이트 하게 되는 경우도 있고, 새로 설치한 라이브러리들끼리 호환이 안 될 수도 있다. (그래서 나중에는 가상환경이라는 걸 사용하게 된다.)\n",
    "\n",
    "이러한 문제를 겪기 싫은 경우 마음 편히 파이썬 배포판을 사용하기도 한다. 파이썬 배포판이란 파이썬 인터프리터뿐만 아니라, 표준 라이브러리, 디버거, 테스팅 도구, 통합 개발 환경(IDE) 등을 한 번에 설치할 수 있도록 묶어놓은 패키지를 말한다. ActivePython, CPython, Jython, WinPython 등이 있으나 역시 가장 유명한 건 Anaconda.\n",
    "\n",
    "Anaconda(아나콘다)는 일반적인 용도의 개발을 위한 파이썬 인터프리터 뿐만 아니라 Numpy, Pandas, Matplotlib 등 1500개가 넘는 데이터 분석 라이브러리를 함께 제공하기 때문에 데이터 분석 분야에서 특히 인기가 많다.\n",
    "\n",
    "그런데 정작 아나콘다를 설치하려고 하면 너무 무겁다. 함께 설치되는 라이브러리가 정말 너무 많기 때문에 실제로 설치하려면 하드 용량도 약 4GB 정도 잡아먹고 설치 시간도 오래 걸린다.\n",
    "\n",
    "앞으로 사용할 라이브러리들이 많지 않기 때문에 일단 처음에는 파이썬 공식 홈페이지에서 제공하는 설치 파일로 설치를 하고, 라이브러리 또한 당장 필요한 필요한 것들만 직접 설치해서 사용하는 것을 권장한다."
   ]
  },
  {
   "cell_type": "markdown",
   "id": "cardiovascular-nothing",
   "metadata": {},
   "source": [
    "### Visual Studio Code 설치하기\n",
    "\n",
    "- 참고: https://wikidocs.net/17684#_3\n",
    "\n",
    "파이썬 코드는 메모장으로 작성해도 실행이 가능하다. 그러나 문법을 체크해주고, 코드를 더 읽기 쉽게 알려주는 에디터를 사용하는 것이 좋다. 우리는 Microsoft에서 제공하는 무료 에디터인 <a href=\"https://code.visualstudio.com/\">Visual Studio Code</a>를 설치해서 사용하자. 설치할 때 **추가작업선택** 기타 부분 체크박스 모두 체크해주는 게 좋다.\n",
    "\n",
    "설치가 완료되고, 실행을 하면 extension을 설치해줄 수 있는데, 기본적으로 python이나 한국어 패키지만 설치해도 충분하다."
   ]
  },
  {
   "cell_type": "markdown",
   "id": "amended-enzyme",
   "metadata": {},
   "source": [
    "## 아주 간단한 파이썬 문법\n",
    "\n",
    "프로그래밍 언어도 **언어**이기 때문에 기본적인 문법을 익혀야 한다. 그래야 컴퓨터가 내가 작성한 코드를 읽고, 그대로 실행을 할 수 있다.\n",
    "\n",
    "기초부터 탄탄하게 공부하려면 학습 시간이 길어져 그 과정에서 의욕이 저하될 수 있기 때문에 아주 실용적인 선에서 기본적인 문법만 익히고 바로 실습으로 들어갈 계획이다."
   ]
  },
  {
   "cell_type": "markdown",
   "id": "bronze-shame",
   "metadata": {},
   "source": [
    "파이썬 문법으로 가장 대표적인 개념을 꼽아보면 아래와 같다.\n",
    "\n",
    "- 변수와 자료형\n",
    "- 반복문\n",
    "- 조건문\n",
    "- 함수\n",
    "\n",
    "이 내용만 알아도 내가 원하는 방식으로 동작하도록 코드를 작성할 수 있으며, 만약 더 복잡한 상황이 왔을 때 이를 처리하는 방법은 그 때 가서 필요한 부분을 익히면 된다.\n",
    "\n",
    "\n",
    "> 다른 언어를 배우는 과정을 떠올려 보면 좋다. 영어를 배울 때 처음부터 문법책을 끝까지 다 완벽하게 공부할 필요가 있을까? 일단 기초적인 회화를 통해 소통을 할 수 있느냐가 중요하다. 말을 많이 하다 보면 더 정교한 의사표현을 위해 새로운 표현을 익히면서 고급 문법도 자연스럽게 습득하게 된다."
   ]
  },
  {
   "cell_type": "markdown",
   "id": "confirmed-sharp",
   "metadata": {},
   "source": [
    "### 변수와 자료형\n",
    "\n",
    "일단 자료형은 숫자, 문자열, True/False 처럼 우리가 다룰 수 있는 것들을 의미한다. 그리고 이러한 자료형은 <code>=</code> 기호를 사용해 내가 원하는 \"변수\"에 담아서 필요할 때 가져오거나 수정할 수 있다는 사실을 기억하자."
   ]
  },
  {
   "cell_type": "code",
   "execution_count": null,
   "id": "pressed-robin",
   "metadata": {},
   "outputs": [],
   "source": [
    "a = 1\n",
    "b = 2\n",
    "계산결과 = a + b\n",
    "print(계산결과)"
   ]
  },
  {
   "cell_type": "markdown",
   "id": "subject-wrestling",
   "metadata": {},
   "source": [
    "파이썬에서는 한글로 변수 이름을 짓는 것도 가능하다."
   ]
  },
  {
   "cell_type": "markdown",
   "id": "pressing-peter",
   "metadata": {},
   "source": [
    "#### 숫자 (Number)\n",
    "\n",
    "말 그대로 숫자. 숫자에도 종류가 있다.\n",
    "\n",
    "- 정수: 123, -345, 0\n",
    "- 실수: 123.45, -1234.5, 3.4e10\n",
    "- 8진수: 0o34, 0o25\n",
    "- 16진수: 0x2A, 0xFF\n",
    "\n",
    "정수는 소수점이 포함되지 않은, 실수는 소수점이 포함된 숫자를 의미한다고 이해하자. (8진수나 16진수는 당장 사용할 일이 없으므로 넘어가도 된다.)\n",
    "\n",
    "이제 파이썬 문법을 통해 숫자를 다루는 연습을 해보자."
   ]
  },
  {
   "cell_type": "code",
   "execution_count": null,
   "id": "turkish-processor",
   "metadata": {},
   "outputs": [],
   "source": [
    "x = 7\n",
    "y = 3\n",
    "\n",
    "print(x + y)\n",
    "print(x - y)\n",
    "print(x * y)\n",
    "print(x / y)"
   ]
  },
  {
   "cell_type": "markdown",
   "id": "assisted-delay",
   "metadata": {},
   "source": [
    "#### 문자열 (String)\n",
    "\n",
    "파이썬에서 문자열을 다룰 때에는 무조건 따옴표를 사용한다. (작은 따옴표도 가능하지만, 일단 우리는 큰 따옴표로 통일해서 작성하자.)\n",
    "\n",
    "만약 문자열에서 줄바꿈을 하고 싶다면, ''' ''' 안에 텍스트를 넣으면 되는데, 자주 사용하진 않는다."
   ]
  },
  {
   "cell_type": "code",
   "execution_count": null,
   "id": "hydraulic-electronics",
   "metadata": {},
   "outputs": [],
   "source": [
    "x = \"안녕하세요.\"\n",
    "y = \"파이썬을 배워봅시다.\"\n",
    "z = \"\"\"고맙습니다.\n",
    "안녕히 계세요.\"\"\"\n",
    "\n",
    "print(x)\n",
    "print(y)\n",
    "print(z)"
   ]
  },
  {
   "cell_type": "markdown",
   "id": "numerical-referral",
   "metadata": {},
   "source": [
    "문자열은 다른 문자열과 합칠 수 있다."
   ]
  },
  {
   "cell_type": "code",
   "execution_count": null,
   "id": "municipal-vegetation",
   "metadata": {},
   "outputs": [],
   "source": [
    "print(x + y + z)\n",
    "print(x + \" \" + y + \" \" + z)"
   ]
  },
  {
   "cell_type": "markdown",
   "id": "honest-blink",
   "metadata": {},
   "source": [
    "숫자와 합치려고 시도하면 에러가 발생한다."
   ]
  },
  {
   "cell_type": "code",
   "execution_count": null,
   "id": "attractive-ethernet",
   "metadata": {},
   "outputs": [],
   "source": [
    "a = \"내가 먹은 사과 개수는 \"\n",
    "b = 2\n",
    "print(a + b)"
   ]
  },
  {
   "cell_type": "markdown",
   "id": "cardiovascular-profession",
   "metadata": {},
   "source": [
    "숫자를 문자열로 써주거나, 문자열로 변환하는 함수를 사용하면 된다."
   ]
  },
  {
   "cell_type": "code",
   "execution_count": null,
   "id": "light-twist",
   "metadata": {},
   "outputs": [],
   "source": [
    "a = \"내가 먹은 사과 개수는 \"\n",
    "b = str(2)\n",
    "print(a + b)\n",
    "c = \"2\"\n",
    "print(a + c)"
   ]
  },
  {
   "cell_type": "markdown",
   "id": "polyphonic-synthesis",
   "metadata": {},
   "source": [
    "파이썬 스크립트를 작성하다 보면 어떤 값이 포함된 문자열을 생성할 일이 자주 발생한다. 이를 문자열 포매팅이라 부르는데, 파이썬 3.6버전부터는 f-string이라는 방식을 사용하면 문자열 포매팅을 매우 쉽게 처리할 수 있다. 문자열 따옴표 앞에 <code>f</code>를 써주는 방식으로 작성하면 따옴표 안에는 <code>{}</code>를 사용해 값을 담을 수 있다."
   ]
  },
  {
   "cell_type": "code",
   "execution_count": null,
   "id": "fifteen-drill",
   "metadata": {},
   "outputs": [],
   "source": [
    "이름 = \"배트맨\"\n",
    "나이 = 34\n",
    "\n",
    "a = \"제 이름은 \" + 이름 + \"입니다.\"\n",
    "b = \"나이는 \" + str(나이) + \"이고요.\"\n",
    "print(a)\n",
    "print(b)\n",
    "\n",
    "c = f\"제 이름은 {이름}입니다.\"\n",
    "d = f\"나이는 {나이}이고요.\"\n",
    "print(c)\n",
    "print(d)"
   ]
  },
  {
   "cell_type": "markdown",
   "id": "formal-bacon",
   "metadata": {},
   "source": [
    "f-string에서는 숫자형 자료가 포함되어도 그 안에서 문자열 형태로 알아서 변환해 출력해주기 때문에 오류가 나지 않는다."
   ]
  },
  {
   "cell_type": "markdown",
   "id": "worthy-theater",
   "metadata": {},
   "source": [
    "그 외에도 문자열을 다루는 이런저런 함수들이 있는데, 본 강의에서는 사용하지 않을 것이니 이런 것들이 가능하다는 점만 알고 넘어가자."
   ]
  },
  {
   "cell_type": "code",
   "execution_count": null,
   "id": "trying-lindsay",
   "metadata": {},
   "outputs": [],
   "source": [
    "a = \"제 이름은 배트맨입니다. 나이는 34살이고요.     \"\n",
    "\n",
    "print(a[0])\n",
    "print(a[4:13])"
   ]
  },
  {
   "cell_type": "markdown",
   "id": "promotional-candy",
   "metadata": {},
   "source": [
    "#### True or False (Boolean)\n",
    "\n",
    "True(참) 또는 False(거짓)으로 표현되는 자료형도 존재한다. 일단 개념만 이해하고 넘어가자.\n",
    "\n",
    "- 참고: https://wikidocs.net/17"
   ]
  },
  {
   "cell_type": "markdown",
   "id": "japanese-designer",
   "metadata": {},
   "source": [
    "#### 리스트(List)와 딕셔너리(Dictionary)"
   ]
  },
  {
   "cell_type": "markdown",
   "id": "solid-timer",
   "metadata": {},
   "source": [
    "리스트와 딕셔너리는 모두 값 여러개를 동시에 담아놓을 수 있는 자료형이다. \n",
    "\n",
    "리스트는 <code>[]</code>, 딕셔너리는 <code>{}</code>를 사용해 표현하는데, 리스트의 경우에는 요소들을 나열해서 담을 수 있지만, 딕셔너리의 경우 키-값 쌍의 형식으로 담겨야 한다.\n",
    "\n",
    "- <code>리스트명 = [값1, 값2, 값3, ...]</code>\n",
    "- <code>딕셔너리명 = {키1: 값1, 키2: 값2, 키3: 값3, ...]</code>"
   ]
  },
  {
   "cell_type": "markdown",
   "id": "framed-explorer",
   "metadata": {},
   "source": [
    "리스트는 여러개의 자료형을 자유롭게 담아둘 수 있는 바구니라고 생각하면 된다."
   ]
  },
  {
   "cell_type": "code",
   "execution_count": null,
   "id": "rolled-electric",
   "metadata": {},
   "outputs": [],
   "source": [
    "리스트a = [1, 2, 3]\n",
    "리스트b = [\"사과\", \"딸기\", \"복숭아\"]\n",
    "리스트c = [1, 2, \"사과\"]\n",
    "리스트d = [[\"배트맨\", \"34세\"], [\"슈퍼맨\", \"41세\"], [\"아이언맨\", \"36세\"]]\n",
    "리스트e = []"
   ]
  },
  {
   "cell_type": "code",
   "execution_count": null,
   "id": "billion-coverage",
   "metadata": {},
   "outputs": [],
   "source": [
    "# 요소 추가\n",
    "리스트b.append(\"포도\")\n",
    "print(리스트b)\n",
    "\n",
    "# 인덱싱 (0부터 시작)\n",
    "print(리스트b[2])"
   ]
  },
  {
   "cell_type": "markdown",
   "id": "vocational-conversation",
   "metadata": {},
   "source": [
    "딕셔너리는 키-값 쌍으로 구성되기 때문에 키를 통해 값을 호출할 수 있다는 장점이 있다."
   ]
  },
  {
   "cell_type": "code",
   "execution_count": null,
   "id": "yellow-dayton",
   "metadata": {},
   "outputs": [],
   "source": [
    "딕셔너리 = {\"이름\": \"배트맨\", \"나이\": 18, \"주소\" : \"아캄시티\"}\n",
    "\n",
    "print(딕셔너리[\"이름\"])\n",
    "print(딕셔너리[\"나이\"])"
   ]
  },
  {
   "cell_type": "markdown",
   "id": "revolutionary-improvement",
   "metadata": {},
   "source": [
    "딕셔너리에 키-값을 추가하는 방법은 다음과 같다."
   ]
  },
  {
   "cell_type": "code",
   "execution_count": null,
   "id": "sustained-friendly",
   "metadata": {},
   "outputs": [],
   "source": [
    "딕셔너리[\"직업\"] = \"모름\"\n",
    "\n",
    "print(딕셔너리)"
   ]
  },
  {
   "cell_type": "markdown",
   "id": "legendary-klein",
   "metadata": {},
   "source": [
    "### 반복문 (Loop)\n",
    "\n",
    "반복문은 말 그대로 같은 작업을 여러번 반복하도록 만들어주는 표현이다. 프로그래밍에서 필수적인 개념이고, 특히 작업을 자동화 할 때는 반복문이 반드시 포함되므로 반드시 익혀야 한다. \n",
    "\n",
    "대표적인 반복문 문법으로 for문과 while문이 있는데, for문은 반복해서 불러올 수 있는(iterable) 객체에 대해 작업을 수행해주는 반면, while문은 조건이 참(True)인 경우에 계속 해당 작업을 반복하도록 해준다.\n",
    "\n",
    "일단 본 강의에서는 for문의 활용법만 익혀보자."
   ]
  },
  {
   "cell_type": "markdown",
   "id": "absolute-teens",
   "metadata": {},
   "source": [
    "for문은 리스트를 활용할 수 있다."
   ]
  },
  {
   "cell_type": "code",
   "execution_count": null,
   "id": "uniform-andorra",
   "metadata": {},
   "outputs": [],
   "source": [
    "리스트 = [1, 2, 3]\n",
    "\n",
    "for 요소 in 리스트:\n",
    "    print(요소)"
   ]
  },
  {
   "cell_type": "markdown",
   "id": "fifty-personality",
   "metadata": {},
   "source": [
    "반복문을 사용하기 전에 빈 리스트를 하나 만들어놓고, 반복문에서 작업을 한 결과를 빈 리스트에 추가해서 새로운 리스트로 완성하는 작업도 자주 이루어진다. (<a href=\"https://wikidocs.net/22#_1\">List Comprehension</a>이라는 문법을 사용하면 이 작업을 우아하게 한 줄로 해결할 수도 있으나 본 강의에서 소개는 생략한다.)"
   ]
  },
  {
   "cell_type": "code",
   "execution_count": null,
   "id": "gorgeous-particular",
   "metadata": {},
   "outputs": [],
   "source": [
    "결과 = []\n",
    "리스트 = [1, 2, 3]\n",
    "for 요소 in 리스트:\n",
    "    결과.append(요소 * 100)\n",
    "    \n",
    "print(결과)"
   ]
  },
  {
   "cell_type": "markdown",
   "id": "anonymous-turner",
   "metadata": {},
   "source": [
    "리스트를 요소로 가진 리스트에 반복문을 사용하는 경우도 자주 발생한다."
   ]
  },
  {
   "cell_type": "code",
   "execution_count": null,
   "id": "advance-looking",
   "metadata": {},
   "outputs": [],
   "source": [
    "전체리스트 = [[\"배트맨\", \"34세\"], [\"슈퍼맨\", \"41세\"], [\"아이언맨\", \"36세\"]]\n",
    "\n",
    "for 개별리스트 in 전체리스트:\n",
    "    print(개별리스트[0])"
   ]
  },
  {
   "cell_type": "markdown",
   "id": "genuine-public",
   "metadata": {},
   "source": [
    "리스트를 요소로 가진 리스트의 하위 요소로 접근하려면 반복문을 중첩해서 사용한다."
   ]
  },
  {
   "cell_type": "code",
   "execution_count": null,
   "id": "transsexual-pantyhose",
   "metadata": {},
   "outputs": [],
   "source": [
    "전체리스트 = [[\"배트맨\", \"34세\"], [\"슈퍼맨\", \"41세\"], [\"아이언맨\", \"36세\"]]\n",
    "\n",
    "for 개별리스트 in 전체리스트:\n",
    "    for 요소 in 개별리스트:\n",
    "        print(요소)"
   ]
  },
  {
   "cell_type": "markdown",
   "id": "missing-sunday",
   "metadata": {},
   "source": [
    "딕셔너리에서는 키-값 쌍을 하나씩 가져올 수 있으며, 물론 키 또는 값만 가져올 수 있다."
   ]
  },
  {
   "cell_type": "code",
   "execution_count": null,
   "id": "ongoing-straight",
   "metadata": {},
   "outputs": [],
   "source": [
    "딕셔너리 = {\"이름\": \"배트맨\", \"나이\": 18, \"주소\" : \"아캄시티\"}\n",
    "\n",
    "for 키, 값 in 딕셔너리.items():\n",
    "    print(f\"{키}는 {값}입니다\")\n",
    "    \n",
    "for 키 in 딕셔너리.keys():\n",
    "    print(키)\n",
    "    \n",
    "for 값 in 딕셔너리.values():\n",
    "    print(값)"
   ]
  },
  {
   "cell_type": "markdown",
   "id": "public-parks",
   "metadata": {},
   "source": [
    "for문은 파이썬 내장함수 <code>range()</code>와도 자주 사용된다. 우선 range() 괄호 안에 숫자를 넣으면, 그 범위의 값을 반복 가능한 객체로 하여 정수를 하나씩 돌려준다.\n",
    "\n",
    "인수를 하나 넣으면 0부터 시작한다."
   ]
  },
  {
   "cell_type": "code",
   "execution_count": null,
   "id": "awful-lighter",
   "metadata": {},
   "outputs": [],
   "source": [
    "for x in range(5):\n",
    "    print(x)"
   ]
  },
  {
   "cell_type": "markdown",
   "id": "mediterranean-terminology",
   "metadata": {},
   "source": [
    "인수를 두 개 넣으면 시작범위와 끝 범위를 지정할 수 있다."
   ]
  },
  {
   "cell_type": "code",
   "execution_count": null,
   "id": "enclosed-fiction",
   "metadata": {},
   "outputs": [],
   "source": [
    "for x in range(1, 11):\n",
    "    print(x)"
   ]
  },
  {
   "cell_type": "markdown",
   "id": "beneficial-headquarters",
   "metadata": {},
   "source": [
    "### 조건문 (Condition)\n",
    "\n",
    "\"돈이 2000원 이상 있으면 버스를 타고, 그렇지 않으면 걸어간다.\" \n",
    "\n",
    "이 문장처럼 프로그래밍에서도 주어진 조건을 판단한 후 그 상황에 맞게 처리해야 할 때가 있다. 파이썬에서는 if문을 활용해 조건문을 표현한다."
   ]
  },
  {
   "cell_type": "code",
   "execution_count": null,
   "id": "professional-testament",
   "metadata": {},
   "outputs": [],
   "source": [
    "돈 = 2500\n",
    "if 돈 >= 2000:\n",
    "    print(\"버스를 탄다.\")"
   ]
  },
  {
   "cell_type": "markdown",
   "id": "selected-sister",
   "metadata": {},
   "source": [
    "조건문을 활용하려면 비교 연산자를 몇가지 알아두면 좋다. (부등호로 숫자의 크기를 비교하는 것 외에도, 같음을 의미하는 <code>==</code>, 같지 않음을 의미하는 <code>!=</code>까지는 알아두자."
   ]
  },
  {
   "cell_type": "code",
   "execution_count": null,
   "id": "infrared-potter",
   "metadata": {},
   "outputs": [],
   "source": [
    "이름 = \"배트맨\"\n",
    "if 이름 == \"스파이더맨\":\n",
    "    print(\"거미줄을 친다\")"
   ]
  },
  {
   "cell_type": "markdown",
   "id": "serial-gamma",
   "metadata": {},
   "source": [
    "조건문은 반복문 안에서 사용할 수 있다."
   ]
  },
  {
   "cell_type": "code",
   "execution_count": null,
   "id": "recorded-radiation",
   "metadata": {},
   "outputs": [],
   "source": [
    "전체리스트 = [[\"배트맨\", 34], [\"슈퍼맨\", 41], [\"아이언맨\", 36]]\n",
    "\n",
    "for 개별리스트 in 전체리스트:\n",
    "    if 개별리스트[1] > 40:\n",
    "        print(개별리스트[0])"
   ]
  },
  {
   "cell_type": "markdown",
   "id": "solid-daniel",
   "metadata": {},
   "source": [
    "조건을 여러개 사용하려면 <code>and</code>, <code>or</code>를 활용한다."
   ]
  },
  {
   "cell_type": "code",
   "execution_count": null,
   "id": "composite-usage",
   "metadata": {},
   "outputs": [],
   "source": [
    "전체리스트 = [[\"배트맨\", 34], [\"슈퍼맨\", 41], [\"아이언맨\", 36]]\n",
    "\n",
    "for 개별리스트 in 전체리스트:\n",
    "    if len(개별리스트[0]) >=4 or 개별리스트[1] > 40:\n",
    "        print(개별리스트[0])"
   ]
  },
  {
   "cell_type": "markdown",
   "id": "level-hospital",
   "metadata": {},
   "source": [
    "if문은 해당 조건을 만족할 때 수행하는데, 만약 조건을 만족하지 않을 때 수행할 작업을 표현하고 싶다면 <code>else</code>를 사용한다."
   ]
  },
  {
   "cell_type": "code",
   "execution_count": null,
   "id": "adaptive-passport",
   "metadata": {},
   "outputs": [],
   "source": [
    "돈 = 1000\n",
    "if 돈 >= 2000:\n",
    "    print(\"버스를 탄다.\")\n",
    "else:\n",
    "    print(\"걸어간다\")"
   ]
  },
  {
   "cell_type": "markdown",
   "id": "rational-protest",
   "metadata": {},
   "source": [
    "<code>elif</code>를 사용하여 여러개 조건을 순차적으로 점검하는 것도 가능하다."
   ]
  },
  {
   "cell_type": "code",
   "execution_count": null,
   "id": "sought-stream",
   "metadata": {},
   "outputs": [],
   "source": [
    "돈 = 3500\n",
    "\n",
    "if 돈 >= 10000:\n",
    "    print(\"택시를 탄다\")\n",
    "elif 돈 >= 3000:\n",
    "    print(\"지하철을 탄다\")\n",
    "elif 돈 >= 2000:\n",
    "    print(\"버스를 탄다\")\n",
    "else:\n",
    "    print(\"걸어간다\")"
   ]
  },
  {
   "cell_type": "markdown",
   "id": "ranking-adjustment",
   "metadata": {},
   "source": [
    "### 함수 (Function)\n",
    "\n",
    "직접 프로그래밍을 하다 보면 동일한 코드를 여러번 작성해야 하는 상황이 발생할 수 있는데, 이 때 \"반복적으로 수행할 작업\"을 한 뭉치로 묶어서 \"어떤 입력값을 주었을 때 어떤 결과를 돌려준다\"라는 식의 함수로 작성하는 것이 유용하다."
   ]
  },
  {
   "cell_type": "markdown",
   "id": "tight-february",
   "metadata": {},
   "source": [
    "직접 함수를 만들어 사용해보자. 기본적인 문법은 다음과 같다."
   ]
  },
  {
   "cell_type": "code",
   "execution_count": null,
   "id": "brown-tongue",
   "metadata": {},
   "outputs": [],
   "source": [
    "def 함수명(입력값):\n",
    "    # 수행할 작업\n",
    "    print(입력값)\n",
    "    \n",
    "함수명(\"홍길동\")"
   ]
  },
  {
   "cell_type": "markdown",
   "id": "enclosed-garbage",
   "metadata": {},
   "source": [
    "함수는 돌려주는 결과를 <code>return</code>을 통해 표현한다."
   ]
  },
  {
   "cell_type": "code",
   "execution_count": null,
   "id": "mexican-court",
   "metadata": {},
   "outputs": [],
   "source": [
    "def 더하기(입력값1, 입력값2):\n",
    "    결과 = 입력값1 + 입력값2\n",
    "    return 결과\n",
    "\n",
    "a = 5\n",
    "b = 6\n",
    "\n",
    "계산값 = 더하기(a, b)\n",
    "print(계산값)"
   ]
  },
  {
   "cell_type": "markdown",
   "id": "sought-proportion",
   "metadata": {},
   "source": [
    "물론 입력값이나 결과값이 없는 함수도 작성할 수 있다. (결과값 <code>return</code>을 명시하지 않으면 작업만 수행하는 셈이고, 그 함수의 결과는 None이다.)"
   ]
  },
  {
   "cell_type": "code",
   "execution_count": null,
   "id": "continuous-calvin",
   "metadata": {},
   "outputs": [],
   "source": [
    "def 인사하기():\n",
    "    print(\"안녕!\")\n",
    "\n",
    "인사하기()"
   ]
  },
  {
   "cell_type": "markdown",
   "id": "daily-north",
   "metadata": {},
   "source": [
    "## 라이브러리(패키지) 사용법\n",
    "\n",
    "지금까지 소개한 단순한 문법으로 무언가를 동작하게 만드는 건 매우 어려운 일이다. 그래서 파이썬에 이미 내장된, 혹은 다른 사람들이 미리 만들어놓은 라이브러리/패키지/모듈(코드 묶음)을 가져와 사용해야 한다."
   ]
  },
  {
   "cell_type": "markdown",
   "id": "joint-carpet",
   "metadata": {},
   "source": [
    "예를 들면 파이썬에 미리 내장된 <code>time</code>을 활용해보자. 불러오는 방법은 크게 두 가지다. 전체를 가져올 수도 있고, 일부 기능(클래스, 함수, 변수 등)만 선택해서 가져올 수도 있다."
   ]
  },
  {
   "cell_type": "code",
   "execution_count": null,
   "id": "wanted-outdoors",
   "metadata": {},
   "outputs": [],
   "source": [
    "import time\n",
    "\n",
    "print(\"시작\")\n",
    "time.sleep(3)\n",
    "print(\"끝\")"
   ]
  },
  {
   "cell_type": "code",
   "execution_count": null,
   "id": "nutritional-athens",
   "metadata": {},
   "outputs": [],
   "source": [
    "from time import sleep\n",
    "\n",
    "print(\"시작\")\n",
    "sleep(3)\n",
    "print(\"끝\")"
   ]
  },
  {
   "cell_type": "markdown",
   "id": "worldwide-gospel",
   "metadata": {},
   "source": [
    "이번엔 내가 이미 만들어놓은 파이썬 스크립트에서 불러와보자. *mylibrary.py*라는 스크립트를 동일한 작업폴더에 넣어두고, 아래와 같이 작성했다.\n",
    "\n",
    "<pre>\n",
    "변수a = \"미리 준비한 문자열입니다\"\n",
    "\n",
    "def 함수a():\n",
    "    print(\"실행 완료\")\n",
    "</pre>\n",
    "\n",
    "이 또한 다음과 같이 불러올 수 있다."
   ]
  },
  {
   "cell_type": "code",
   "execution_count": null,
   "id": "front-garden",
   "metadata": {},
   "outputs": [],
   "source": [
    "import mylibrary\n",
    "\n",
    "print(mylibrary.변수a)\n",
    "mylibrary.함수a()"
   ]
  },
  {
   "cell_type": "code",
   "execution_count": null,
   "id": "accomplished-humanity",
   "metadata": {},
   "outputs": [],
   "source": [
    "from mylibrary import 변수a, 함수a\n",
    "\n",
    "print(변수a)\n",
    "함수a()"
   ]
  },
  {
   "cell_type": "markdown",
   "id": "overall-employer",
   "metadata": {},
   "source": [
    "만약 파이썬 설치 과정에 내장된 기본 라이브러리가 아니라 외부에서 배포한 라이브러리를 사용하고 싶다면 설치를 해서 사용해야 하는데, 설치는 대부분 명령 프롬프트 창에 <code>pip install 라이브러리이름</code>과 같은 형식으로 쉽게 할 수 있다. (모든 라이브러리 공식 홈페이지에는 설치 방법을 친절히 안내하고 있으니 이를 참고하면 된다.)"
   ]
  }
 ],
 "metadata": {
  "kernelspec": {
   "display_name": "venv",
   "language": "python",
   "name": "venv"
  },
  "language_info": {
   "codemirror_mode": {
    "name": "ipython",
    "version": 3
   },
   "file_extension": ".py",
   "mimetype": "text/x-python",
   "name": "python",
   "nbconvert_exporter": "python",
   "pygments_lexer": "ipython3",
   "version": "3.9.4"
  },
  "toc-autonumbering": true
 },
 "nbformat": 4,
 "nbformat_minor": 5
}
